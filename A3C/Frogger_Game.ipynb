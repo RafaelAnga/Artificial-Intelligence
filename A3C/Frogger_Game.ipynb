{
  "cells": [
    {
      "cell_type": "markdown",
      "metadata": {
        "id": "view-in-github",
        "colab_type": "text"
      },
      "source": [
        "<a href=\"https://colab.research.google.com/github/RafaelAnga/Artificial-Intelligence/blob/main/A3C/A3C_For_Frogger_Game.ipynb\" target=\"_parent\"><img src=\"https://colab.research.google.com/assets/colab-badge.svg\" alt=\"Open In Colab\"/></a>"
      ]
    },
    {
      "cell_type": "markdown",
      "source": [
        "#Problem Context:\n",
        "Self-learning AI, powered by reinforcement learning, is transforming how we approach complex decision-making tasks—from robotics and autonomous vehicles to game playing and resource optimization. By enabling agents to learn optimal strategies through trial and error, these algorithms can adapt to unpredictable environments and discover solutions that are often unintuitive to humans.\n",
        "\n"
      ],
      "metadata": {
        "id": "zkNDL5e-sCft"
      }
    },
    {
      "cell_type": "markdown",
      "source": [
        "\n",
        "##About This Project:\n",
        "In this project, I developed an Asynchronous Advantage Actor-Critic (A3C) agent to play the classic game Frogger. The A3C algorithm leverages parallel environments and a combination of policy (actor) and value (critic) networks to efficiently learn challenging tasks. This implementation demonstrates how reinforcement learning can be applied to environments with continuous feedback and high variability, highlighting the strengths of self-learning agents in mastering complex behaviors without explicit programming.\n",
        "\n",
        "By successfully training an agent to navigate Frogger’s obstacles, this project serves as a step forward in understanding and applying advanced reinforcement learning techniques. It also showcases the versatility of self-learning AI, which can be extended to a wide variety of real-world applications beyond games."
      ],
      "metadata": {
        "id": "9SKTQc2usNte"
      }
    },
    {
      "cell_type": "markdown",
      "source": [
        "# A3C for Frogger Game\n",
        "\n"
      ],
      "metadata": {
        "id": "dIo6Zkp7U1Hq"
      }
    },
    {
      "cell_type": "markdown",
      "source": [
        "## This code is for the game Frogger from the Gymnasium website, under the Atari category.\n",
        "This code trains a reinforcement learning AI to play the game and obtain a score of 500.\n",
        "\n",
        "Website: https://ale.farama.org/environments/frogger/"
      ],
      "metadata": {
        "id": "dAqnueAk8vjY"
      }
    },
    {
      "cell_type": "markdown",
      "source": [
        "## Part 0 - Installing the required packages and importing the libraries"
      ],
      "metadata": {
        "id": "pz8ogVxGVB6b"
      }
    },
    {
      "cell_type": "markdown",
      "source": [
        "### Installing Gymnasium"
      ],
      "metadata": {
        "id": "CqN2IEX1VKzi"
      }
    },
    {
      "cell_type": "code",
      "execution_count": null,
      "metadata": {
        "id": "dbnq3XpoKa_7",
        "colab": {
          "base_uri": "https://localhost:8080/"
        },
        "outputId": "cb9b35fc-a4a4-42e4-95da-b5a746088f1d"
      },
      "outputs": [
        {
          "output_type": "stream",
          "name": "stdout",
          "text": [
            "Requirement already satisfied: gymnasium in /usr/local/lib/python3.10/dist-packages (1.0.0)\n",
            "Requirement already satisfied: numpy>=1.21.0 in /usr/local/lib/python3.10/dist-packages (from gymnasium) (1.26.4)\n",
            "Requirement already satisfied: cloudpickle>=1.2.0 in /usr/local/lib/python3.10/dist-packages (from gymnasium) (3.1.0)\n",
            "Requirement already satisfied: typing-extensions>=4.3.0 in /usr/local/lib/python3.10/dist-packages (from gymnasium) (4.12.2)\n",
            "Requirement already satisfied: farama-notifications>=0.0.1 in /usr/local/lib/python3.10/dist-packages (from gymnasium) (0.0.4)\n",
            "Requirement already satisfied: gymnasium[accept-rom-license,atari] in /usr/local/lib/python3.10/dist-packages (1.0.0)\n",
            "\u001b[33mWARNING: gymnasium 1.0.0 does not provide the extra 'accept-rom-license'\u001b[0m\u001b[33m\n",
            "\u001b[0mRequirement already satisfied: numpy>=1.21.0 in /usr/local/lib/python3.10/dist-packages (from gymnasium[accept-rom-license,atari]) (1.26.4)\n",
            "Requirement already satisfied: cloudpickle>=1.2.0 in /usr/local/lib/python3.10/dist-packages (from gymnasium[accept-rom-license,atari]) (3.1.0)\n",
            "Requirement already satisfied: typing-extensions>=4.3.0 in /usr/local/lib/python3.10/dist-packages (from gymnasium[accept-rom-license,atari]) (4.12.2)\n",
            "Requirement already satisfied: farama-notifications>=0.0.1 in /usr/local/lib/python3.10/dist-packages (from gymnasium[accept-rom-license,atari]) (0.0.4)\n",
            "Requirement already satisfied: ale-py>=0.9 in /usr/local/lib/python3.10/dist-packages (from gymnasium[accept-rom-license,atari]) (0.10.1)\n",
            "Requirement already satisfied: ale-py in /usr/local/lib/python3.10/dist-packages (0.10.1)\n",
            "Requirement already satisfied: numpy>1.20 in /usr/local/lib/python3.10/dist-packages (from ale-py) (1.26.4)\n",
            "Requirement already satisfied: typing-extensions in /usr/local/lib/python3.10/dist-packages (from ale-py) (4.12.2)\n",
            "Reading package lists... Done\n",
            "Building dependency tree... Done\n",
            "Reading state information... Done\n",
            "swig is already the newest version (4.0.2-1ubuntu1).\n",
            "0 upgraded, 0 newly installed, 0 to remove and 49 not upgraded.\n",
            "Requirement already satisfied: gymnasium[box2d] in /usr/local/lib/python3.10/dist-packages (1.0.0)\n",
            "Requirement already satisfied: numpy>=1.21.0 in /usr/local/lib/python3.10/dist-packages (from gymnasium[box2d]) (1.26.4)\n",
            "Requirement already satisfied: cloudpickle>=1.2.0 in /usr/local/lib/python3.10/dist-packages (from gymnasium[box2d]) (3.1.0)\n",
            "Requirement already satisfied: typing-extensions>=4.3.0 in /usr/local/lib/python3.10/dist-packages (from gymnasium[box2d]) (4.12.2)\n",
            "Requirement already satisfied: farama-notifications>=0.0.1 in /usr/local/lib/python3.10/dist-packages (from gymnasium[box2d]) (0.0.4)\n",
            "Requirement already satisfied: box2d-py==2.3.5 in /usr/local/lib/python3.10/dist-packages (from gymnasium[box2d]) (2.3.5)\n",
            "Requirement already satisfied: pygame>=2.1.3 in /usr/local/lib/python3.10/dist-packages (from gymnasium[box2d]) (2.6.1)\n",
            "Requirement already satisfied: swig==4.* in /usr/local/lib/python3.10/dist-packages (from gymnasium[box2d]) (4.3.0)\n"
          ]
        }
      ],
      "source": [
        "!pip install gymnasium\n",
        "!pip install \"gymnasium[atari, accept-rom-license]\"\n",
        "!pip install ale-py\n",
        "!apt-get install -y swig\n",
        "!pip install gymnasium[box2d]"
      ]
    },
    {
      "cell_type": "markdown",
      "source": [
        "### Importing the libraries"
      ],
      "metadata": {
        "id": "BrsNHNQqVZLK"
      }
    },
    {
      "cell_type": "code",
      "execution_count": null,
      "metadata": {
        "id": "Ho_25-9_9qnu"
      },
      "outputs": [],
      "source": [
        "import cv2\n",
        "import math\n",
        "import random\n",
        "import numpy as np\n",
        "import torch\n",
        "import torch.nn as nn\n",
        "import torch.optim as optim\n",
        "import torch.nn.functional as F\n",
        "import torch.multiprocessing as mp\n",
        "import torch.distributions as distributions\n",
        "from torch.distributions import Categorical\n",
        "import ale_py\n",
        "import gymnasium as gym\n",
        "from gymnasium.spaces import Box\n",
        "from gymnasium import ObservationWrapper"
      ]
    },
    {
      "cell_type": "markdown",
      "source": [
        "## Part 1 - Building the AI"
      ],
      "metadata": {
        "id": "VF6EFSGUVlk2"
      }
    },
    {
      "cell_type": "markdown",
      "source": [
        "### Creating the architecture of the Neural Network"
      ],
      "metadata": {
        "id": "qyNc8cxbZCYP"
      }
    },
    {
      "cell_type": "code",
      "source": [
        "# Define the Network clas\n",
        "class Network(nn.Module):\n",
        "\n",
        "    def __init__(self, action_size):\n",
        "        super(Network, self).__init__()\n",
        "        self.conv1 = torch.nn.Conv2d(in_channels=4, out_channels=32, kernel_size=(3, 3), stride=2)\n",
        "        self.conv2 = torch.nn.Conv2d(in_channels=32, out_channels=32, kernel_size=(3, 3), stride=2)\n",
        "        self.conv3 = torch.nn.Conv2d(in_channels=32, out_channels=64, kernel_size=(3, 3), stride=2)\n",
        "        self.flatten = torch.nn.Flatten()\n",
        "        self.fc1 = torch.nn.Linear(5184, 128)\n",
        "        self.fc2a = torch.nn.Linear(128, action_size)\n",
        "        self.fc2s = torch.nn.Linear(128, 1)\n",
        "\n",
        "    def forward(self, state):\n",
        "        x = self.conv1(state)\n",
        "        x = F.relu(x)\n",
        "        x = self.conv2(x)\n",
        "        x = F.relu(x)\n",
        "        x = self.conv3(x)\n",
        "        x = F.relu(x)\n",
        "        x = self.flatten(x)\n",
        "        x = F.relu(self.fc1(x))\n",
        "        action_values = self.fc2a(x)\n",
        "        state_value = self.fc2s(x)\n",
        "        return action_values, state_value\n"
      ],
      "metadata": {
        "id": "NGW1G-eL-yYM"
      },
      "execution_count": null,
      "outputs": []
    },
    {
      "cell_type": "markdown",
      "source": [
        "## Part 2 - Training the AI"
      ],
      "metadata": {
        "id": "eF5bETqbZbCG"
      }
    },
    {
      "cell_type": "markdown",
      "source": [
        "### Setting up the environment"
      ],
      "metadata": {
        "id": "3C2ydyKLZgaK"
      }
    },
    {
      "cell_type": "code",
      "source": [
        "# Preprocess Atari images\n",
        "class PreprocessAtari(ObservationWrapper):\n",
        "    def __init__(self, env, height=84, width=84, crop=lambda img: img, dim_order='pytorch', n_frames=4):\n",
        "        super(PreprocessAtari, self).__init__(env)\n",
        "        self.img_size = (height, width)\n",
        "        self.crop = crop\n",
        "        self.dim_order = dim_order\n",
        "        self.frame_stack = n_frames\n",
        "        n_channels = n_frames\n",
        "        obs_shape = (n_channels, height, width) if dim_order == 'pytorch' else (height, width, n_channels)\n",
        "        self.observation_space = Box(low=0.0, high=1.0, shape=obs_shape, dtype=np.float32)\n",
        "        self.frames = np.zeros(obs_shape, dtype=np.float32)\n",
        "\n",
        "    def reset(self):\n",
        "        self.frames.fill(0)\n",
        "        obs, info = self.env.reset()\n",
        "        self.update_buffer(obs)\n",
        "        return self.frames, info\n",
        "\n",
        "    def observation(self, img):\n",
        "        img = self.crop(img)\n",
        "        img = cv2.resize(img, self.img_size)\n",
        "        img = cv2.cvtColor(img, cv2.COLOR_RGB2GRAY) / 255.0\n",
        "        self.frames = np.roll(self.frames, shift=-1, axis=0)\n",
        "        self.frames[-1] = img\n",
        "        return self.frames\n",
        "\n",
        "    def update_buffer(self, obs):\n",
        "        self.frames = self.observation(obs)\n",
        "\n",
        "# Create the environment\n",
        "def make_env():\n",
        "    env = gym.make(\"ALE/Frogger-v5\", render_mode=\"rgb_array\")\n",
        "    env = PreprocessAtari(\n",
        "        env,\n",
        "        height=84,\n",
        "        width=84,\n",
        "        crop=lambda img: img[0:210, :, :],\n",
        "        dim_order=\"pytorch\",\n",
        "        n_frames=4\n",
        "    )\n",
        "    return env\n",
        "\n",
        "# Initialize environment and print shape information\n",
        "env = make_env()\n",
        "state_shape = env.observation_space.shape\n",
        "number_actions = env.action_space.n\n",
        "print(\"State shape:\", state_shape)\n",
        "print(\"Number actions:\", number_actions)\n"
      ],
      "metadata": {
        "colab": {
          "base_uri": "https://localhost:8080/"
        },
        "id": "gF756uIhRVcK",
        "outputId": "3e1e5770-242b-4b43-c03c-31af5d99bbc6"
      },
      "execution_count": null,
      "outputs": [
        {
          "output_type": "stream",
          "name": "stdout",
          "text": [
            "State shape: (4, 84, 84)\n",
            "Number actions: 5\n"
          ]
        }
      ]
    },
    {
      "cell_type": "markdown",
      "source": [
        "### Initializing the hyperparameters"
      ],
      "metadata": {
        "id": "YgRlooBmC1hr"
      }
    },
    {
      "cell_type": "code",
      "source": [
        "learning_rate = 5e-4\n",
        "discount_factor = 0.97\n",
        "number_environments = 10"
      ],
      "metadata": {
        "id": "YjK8HGsREYtW"
      },
      "execution_count": null,
      "outputs": []
    },
    {
      "cell_type": "markdown",
      "source": [
        "### Implementing the A3C class"
      ],
      "metadata": {
        "id": "Gg_LmSs9IoTX"
      }
    },
    {
      "cell_type": "code",
      "source": [
        "# PPO Agent class\n",
        "class PPOAgent:\n",
        "    def __init__(self, action_size, learning_rate=5e-4, gamma=0.97, lamda=0.95, clip_epsilon=0.2):\n",
        "        self.device = torch.device(\"cuda:0\" if torch.cuda.is_available() else \"cpu\")\n",
        "        self.action_size = action_size\n",
        "        self.gamma = gamma\n",
        "        self.lamda = lamda\n",
        "        self.clip_epsilon = clip_epsilon\n",
        "\n",
        "        self.network = Network(action_size).to(self.device)\n",
        "        self.optimizer = torch.optim.Adam(self.network.parameters(), lr=learning_rate)\n",
        "\n",
        "    def act(self, state):\n",
        "        state = torch.tensor(state, dtype=torch.float32, device=self.device)\n",
        "        action_values, _ = self.network(state)\n",
        "        policy = F.softmax(action_values, dim=-1)\n",
        "        dist = Categorical(policy)\n",
        "        action = dist.sample()\n",
        "        return action.item(), dist.log_prob(action), dist.entropy()\n",
        "\n",
        "    def step(self, states, actions, rewards, next_states, dones, old_log_probs, old_values):\n",
        "        states = torch.tensor(states, dtype=torch.float32, device=self.device)\n",
        "        next_states = torch.tensor(next_states, dtype=torch.float32, device=self.device)\n",
        "        actions = torch.tensor(actions, dtype=torch.int64, device=self.device)\n",
        "        rewards = torch.tensor(rewards, dtype=torch.float32, device=self.device)\n",
        "        dones = torch.tensor(dones, dtype=torch.float32, device=self.device)\n",
        "\n",
        "        action_values, state_values = self.network(states)\n",
        "        _, next_state_values = self.network(next_states)\n",
        "        probs = F.softmax(action_values, dim=-1)\n",
        "        dist = Categorical(probs)\n",
        "        new_log_probs = dist.log_prob(actions)\n",
        "        entropy = dist.entropy()\n",
        "\n",
        "        target_values = rewards + self.gamma * next_state_values * (1 - dones)\n",
        "        delta = target_values - state_values\n",
        "        advantage = delta.detach()\n",
        "\n",
        "        ratio = (new_log_probs - old_log_probs).exp()\n",
        "        surrogate1 = ratio * advantage\n",
        "        surrogate2 = torch.clamp(ratio, 1 - self.clip_epsilon, 1 + self.clip_epsilon) * advantage\n",
        "        actor_loss = -torch.min(surrogate1, surrogate2).mean()\n",
        "\n",
        "        critic_loss = F.mse_loss(state_values, target_values.detach())\n",
        "\n",
        "        entropy_loss = -entropy.mean()\n",
        "\n",
        "        loss = actor_loss + 0.5 * critic_loss - 0.01 * entropy_loss\n",
        "\n",
        "        self.optimizer.zero_grad()\n",
        "        loss.backward()\n",
        "        self.optimizer.step()\n"
      ],
      "metadata": {
        "id": "V2N4NQgrFHs9"
      },
      "execution_count": null,
      "outputs": []
    },
    {
      "cell_type": "markdown",
      "source": [
        "### Initializing the PPO agent"
      ],
      "metadata": {
        "id": "7RnRukHDKFJ0"
      }
    },
    {
      "cell_type": "code",
      "source": [
        "agent = PPOAgent(number_actions)"
      ],
      "metadata": {
        "id": "8t0EfT55G25O"
      },
      "execution_count": null,
      "outputs": []
    },
    {
      "cell_type": "markdown",
      "source": [
        "### Evaluating our A3C agent on a single episode"
      ],
      "metadata": {
        "id": "oB5SpmoKP0aK"
      }
    },
    {
      "cell_type": "code",
      "source": [
        "# Evaluate the model\n",
        "def evaluate(agent, env, n_episodes=10):\n",
        "    episodes_rewards = []\n",
        "    for _ in range(n_episodes):\n",
        "        state, _ = env.reset()\n",
        "        total_reward = 0\n",
        "        while True:\n",
        "            action = agent.act(state)\n",
        "            state, reward, done, info, _ = env.step(action[0])\n",
        "            total_reward += reward\n",
        "            if done:\n",
        "                break\n",
        "        episodes_rewards.append(total_reward)\n",
        "    return episodes_rewards"
      ],
      "metadata": {
        "id": "kq_SFxsTD3H2"
      },
      "execution_count": null,
      "outputs": []
    },
    {
      "cell_type": "markdown",
      "source": [
        "### Testing multiple agents on multiple environments at the same time"
      ],
      "metadata": {
        "id": "jVSqiyjiQeMd"
      }
    },
    {
      "cell_type": "code",
      "source": [
        "# Environment batch for parallel environments\n",
        "class EnvBatch:\n",
        "    def __init__(self, n_envs=10):\n",
        "        self.envs = [make_env() for _ in range(n_envs)]\n",
        "\n",
        "    def reset(self):\n",
        "        _states = []\n",
        "        for env in self.envs:\n",
        "            _states.append(env.reset()[0])\n",
        "        return np.array(_states)\n",
        "\n",
        "    def step(self, actions):\n",
        "        next_states, rewards, dones, infos, _ = map(np.array, zip(*[env.step(a) for env, a in zip(self.envs, actions)]))\n",
        "        for i in range(len(self.envs)):\n",
        "            if dones[i]:\n",
        "                next_states[i] = self.envs[i].reset()[0]\n",
        "        return next_states, rewards, dones, infos"
      ],
      "metadata": {
        "id": "WJm_EQ1lNdaY"
      },
      "execution_count": null,
      "outputs": []
    },
    {
      "cell_type": "markdown",
      "source": [
        "### Training the PPO agent"
      ],
      "metadata": {
        "id": "69WZWB4oRx1P"
      }
    },
    {
      "cell_type": "code",
      "source": [
        "def train_ppo(agent, env_batch, n_steps=2048, batch_size=64):\n",
        "    batch_states = env_batch.reset()\n",
        "    episode_rewards = []\n",
        "\n",
        "    for i in range(n_steps):\n",
        "        states, actions, rewards, next_states, dones, log_probs, values = [], [], [], [], [], [], []\n",
        "\n",
        "        for _ in range(batch_size):\n",
        "            action, log_prob, entropy = agent.act(batch_states)\n",
        "            next_states, batch_rewards, batch_dones, _ = env_batch.step(action)\n",
        "\n",
        "            states.append(batch_states)\n",
        "            actions.append(action)\n",
        "            rewards.append(batch_rewards)\n",
        "            next_states.append(next_states)\n",
        "            dones.append(batch_dones)\n",
        "            log_probs.append(log_prob)\n",
        "            values.append(batch_states)\n",
        "\n",
        "        agent.step(states, actions, rewards, next_states, dones, log_probs, values)\n",
        "\n",
        "        if i % 1000 == 0:\n",
        "            print(f\"Step {i}: Average Reward: {np.mean(evaluate(agent, env, n_episodes=10))}\")\n"
      ],
      "metadata": {
        "colab": {
          "base_uri": "https://localhost:8080/"
        },
        "id": "GlalHoDIRgXk",
        "outputId": "4a18ded6-7a66-418f-8379-06c9bfce1b3b"
      },
      "execution_count": null,
      "outputs": [
        {
          "output_type": "stream",
          "name": "stderr",
          "text": [
            "\r  0%|          | 0/3001 [00:00<?, ?it/s]<ipython-input-120-faa293970dff>:33: UserWarning: Using a target size (torch.Size([10, 1])) that is different to the input size (torch.Size([10, 10])). This will likely lead to incorrect results due to broadcasting. Please ensure they have the same size.\n",
            "  critic_loss = F.mse_loss(target_state_value.detach(), state_value)\n",
            "  0%|          | 3/3001 [00:26<5:47:01,  6.95s/it] "
          ]
        },
        {
          "output_type": "stream",
          "name": "stdout",
          "text": [
            "Step 0: Average Reward: 8.7\n"
          ]
        },
        {
          "output_type": "stream",
          "name": "stderr",
          "text": [
            " 33%|███▎      | 1003/3001 [01:57<1:26:35,  2.60s/it]"
          ]
        },
        {
          "output_type": "stream",
          "name": "stdout",
          "text": [
            "Step 1000: Average Reward: 10.1\n"
          ]
        },
        {
          "output_type": "stream",
          "name": "stderr",
          "text": [
            " 67%|██████▋   | 2003/3001 [03:27<41:13,  2.48s/it]"
          ]
        },
        {
          "output_type": "stream",
          "name": "stdout",
          "text": [
            "Step 2000: Average Reward: 11.7\n"
          ]
        },
        {
          "output_type": "stream",
          "name": "stderr",
          "text": [
            "100%|██████████| 3001/3001 [05:02<00:00,  9.93it/s]"
          ]
        },
        {
          "output_type": "stream",
          "name": "stdout",
          "text": [
            "Step 3000: Average Reward: 11.3\n"
          ]
        },
        {
          "output_type": "stream",
          "name": "stderr",
          "text": [
            "\n"
          ]
        }
      ]
    },
    {
      "cell_type": "markdown",
      "source": [
        "### Running the PPO model"
      ],
      "metadata": {
        "id": "7StIW51hEAlE"
      }
    },
    {
      "cell_type": "code",
      "source": [
        "env_batch = EnvBatch(number_environments)\n",
        "train_ppo(agent, env_batch)"
      ],
      "metadata": {
        "id": "4JnuPqQ7D_Kq"
      },
      "execution_count": null,
      "outputs": []
    },
    {
      "cell_type": "markdown",
      "source": [
        "## Part 3 - Visualizing the results"
      ],
      "metadata": {
        "id": "7kG_YR9YdmUM"
      }
    },
    {
      "cell_type": "code",
      "source": [
        "# Show video of the trained agent\n",
        "import glob\n",
        "import io\n",
        "import base64\n",
        "import imageio\n",
        "from IPython.display import HTML, display\n",
        "\n",
        "def show_video_of_model(agent, env):\n",
        "    state, _ = env.reset()\n",
        "    done = False\n",
        "    frames = []\n",
        "    while not done:\n",
        "        frame = env.render()\n",
        "        frames.append(frame)\n",
        "        action = agent.act(state)\n",
        "        state, reward, done, _, _ = env.step(action[0])\n",
        "    env.close()\n",
        "    imageio.mimsave('video.mp4', frames, fps=30)\n",
        "\n",
        "show_video_of_model(agent, env)\n",
        "\n",
        "def show_video():\n",
        "    mp4list = glob.glob('*.mp4')\n",
        "    if len(mp4list) > 0:\n",
        "        mp4 = mp4list[0]\n",
        "        video = io.open(mp4, 'r+b').read()\n",
        "        encoded = base64.b64encode(video)\n",
        "        display(HTML(data='''<video alt=\"test\" autoplay\n",
        "                loop controls style=\"height: 400px;\">\n",
        "                <source src=\"data:video/mp4;base64,{0}\" type=\"video/mp4\" />\n",
        "             </video>'''.format(encoded.decode('ascii'))))\n",
        "    else:\n",
        "        print(\"Could not find video\")\n",
        "\n",
        "show_video()"
      ],
      "metadata": {
        "id": "UGkTuO6DxZ6B",
        "colab": {
          "base_uri": "https://localhost:8080/",
          "height": 458
        },
        "outputId": "f8b675f3-be1a-4333-ff24-91c4d7f8c6ef"
      },
      "execution_count": null,
      "outputs": [
        {
          "output_type": "stream",
          "name": "stderr",
          "text": [
            "WARNING:imageio_ffmpeg:IMAGEIO FFMPEG_WRITER WARNING: input image is not divisible by macro_block_size=16, resizing from (160, 210) to (160, 224) to ensure video compatibility with most codecs and players. To prevent resizing, make your input image divisible by the macro_block_size or set the macro_block_size to 1 (risking incompatibility).\n"
          ]
        },
        {
          "output_type": "display_data",
          "data": {
            "text/plain": [
              "<IPython.core.display.HTML object>"
            ],
            "text/html": [
              "<video alt=\"test\" autoplay\n",
              "                loop controls style=\"height: 400px;\">\n",
              "                <source src=\"data:video/mp4;base64,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\" type=\"video/mp4\" />\n",
              "             </video>"
            ]
          },
          "metadata": {}
        }
      ]
    }
  ],
  "metadata": {
    "colab": {
      "provenance": [],
      "include_colab_link": true
    },
    "kernelspec": {
      "display_name": "Python 3",
      "name": "python3"
    },
    "language_info": {
      "name": "python"
    }
  },
  "nbformat": 4,
  "nbformat_minor": 0
}
