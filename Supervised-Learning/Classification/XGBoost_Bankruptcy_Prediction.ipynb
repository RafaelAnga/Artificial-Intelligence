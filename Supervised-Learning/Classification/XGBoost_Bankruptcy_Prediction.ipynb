{
  "nbformat": 4,
  "nbformat_minor": 0,
  "metadata": {
    "colab": {
      "provenance": [],
      "authorship_tag": "ABX9TyPa55E6rikQZPvNmB7UwHew",
      "include_colab_link": true
    },
    "kernelspec": {
      "name": "python3",
      "display_name": "Python 3"
    },
    "language_info": {
      "name": "python"
    }
  },
  "cells": [
    {
      "cell_type": "markdown",
      "metadata": {
        "id": "view-in-github",
        "colab_type": "text"
      },
      "source": [
        "<a href=\"https://colab.research.google.com/github/RafaelAnga/Artificial-Intelligence/blob/main/Supervised-Learning/Classification/XGBoost_Bankruptcy_Prediction.ipynb\" target=\"_parent\"><img src=\"https://colab.research.google.com/assets/colab-badge.svg\" alt=\"Open In Colab\"/></a>"
      ]
    },
    {
      "cell_type": "markdown",
      "source": [
        "# Bankruptcy Prediction for Colombian Companies Using XGBoost\n",
        "By: Rafael Angarita"
      ],
      "metadata": {
        "id": "VDywW8biOnYJ"
      }
    },
    {
      "cell_type": "markdown",
      "source": [
        "## Summary of the Code:\n",
        "This project aims to predict the likelihood of bankruptcy for Colombian companies using financial data. The dataset includes financial metrics such as gross income, total equity, liabilities, and current assets. The model leverages XGBoost and advanced sampling techniques like SMOTEENN to handle the highly imbalanced dataset, where bankruptcy cases are significantly fewer than non-bankruptcy cases. Multiple pipelines with different sampling strategies are compared to identify the best-performing model.\n",
        "\n",
        "**Business Applications:**\n",
        "This model can be applied in various industries, particularly in finance and risk management, to:\n",
        "\n",
        "**Credit Risk Assessment:** Help banks and financial institutions evaluate the risk of lending to companies.\n",
        "\n",
        "**Investment Decision-Making:** Assist investors in identifying financially stable companies.\n",
        "\n",
        "**Corporate Governance:** Enable companies to monitor their financial health and take corrective actions.\n",
        "\n",
        "**Policy Development:**\n",
        "Aid policymakers in understanding bankruptcy trends and creating supportive regulations."
      ],
      "metadata": {
        "id": "vzUxnhJ7k1do"
      }
    },
    {
      "cell_type": "markdown",
      "source": [
        "# Component 1: Data Understanding\n",
        "\n",
        "*   Which attributes (columns) in the database look most promising?\n",
        "\n",
        "\n",
        "1.   Ganancia bruta (Gross income)\n",
        "2.   Ingresos de actividades ordinarias (Ordinary activity Income)\n",
        "3.   Patrimonio Total (Total Equity)\n",
        "4.   Total Pasivos (Total passive income)\n",
        "5.   Pasivos corrientes totales (Total Current Liabilities)\n",
        "6.   Activos corientes totales (Total Current Assets)\n",
        "\n",
        "\n",
        "1.   Which attributes do not seem relevant and can be excluded?\n",
        "\n",
        "\n",
        "*   Sector: If this is categorical, it might not add predictive value unless its being analized by industry.\n",
        "*   Index: Can be used to identify and keep in the data but if it doesnt have a correlation to backruptcy then it can be excluded.\n",
        "\n",
        "\n",
        "2.   Is there enough data to draw general conclusions or make accurate predictions?\n",
        "\n",
        "\n",
        "*   While there is enough train data with 14097 observations/instances there is big imbalance, with observations events of non-bankruptcy and 247 observations of bankruptcy, with 13 attributes including the target 'event'.\n",
        "*   In terms of the test data, there are 6042 observations with 12 attributes\n",
        "\n",
        "\n",
        "3.  Do you have sufficient attributes for your modeling method?\n",
        "*  The provided attributes are common financial indicators that can predict bankruptcy.\n",
        "\n",
        "4.   Are you merging multiple data sources? If so, are there any areas that may pose problems when merging?\n",
        "* No merging will be necesary\n",
        "\n",
        "5.  Have you considered how missing values are handled in each data source?\n",
        "* The missing val\n",
        "\n",
        "\n",
        "\n",
        "\n"
      ],
      "metadata": {
        "id": "-GPaQQYlQV0p"
      }
    },
    {
      "cell_type": "markdown",
      "source": [
        "## Step 1: Initial data collection\n",
        "\n",
        "* Imported the dataset from Google Drive.\n",
        "* Verified data dimensions: 14,097 rows, 13 columns for training; 6,042 rows, 12 columns for testing."
      ],
      "metadata": {
        "id": "GMx6ho_cR9ty"
      }
    },
    {
      "cell_type": "code",
      "source": [
        "# Suppress warnings and unnecessary logs\n",
        "import warnings\n",
        "warnings.filterwarnings(\"ignore\")  # Suppress all warnings"
      ],
      "metadata": {
        "id": "UBlocwNFnSzF"
      },
      "execution_count": 14,
      "outputs": []
    },
    {
      "cell_type": "code",
      "execution_count": 1,
      "metadata": {
        "id": "xHoQVKs6OXBW"
      },
      "outputs": [],
      "source": [
        "# Import necessary libraries\n",
        "import pandas as pd\n",
        "import numpy as np\n",
        "import matplotlib.pyplot as plt\n",
        "import seaborn as sns\n",
        "from sklearn.compose import ColumnTransformer\n",
        "from sklearn.preprocessing import OneHotEncoder, StandardScaler\n",
        "from imblearn.pipeline import Pipeline as ImbPipeline\n",
        "from imblearn.over_sampling import SMOTE\n",
        "from imblearn.combine import SMOTEENN\n",
        "from imblearn.under_sampling import RandomUnderSampler\n",
        "from sklearn.model_selection import train_test_split\n",
        "from sklearn.metrics import accuracy_score, recall_score, f1_score, roc_auc_score, classification_report\n",
        "from xgboost import XGBClassifier"
      ]
    },
    {
      "cell_type": "code",
      "source": [
        "from google.colab import drive # Used to connect to google Drive\n",
        "drive.mount('/content/drive')"
      ],
      "metadata": {
        "colab": {
          "base_uri": "https://localhost:8080/"
        },
        "id": "uPTYRFe4PW_Z",
        "outputId": "7df11534-f878-4f00-bf76-1e3bb211b3bb"
      },
      "execution_count": 2,
      "outputs": [
        {
          "output_type": "stream",
          "name": "stdout",
          "text": [
            "Mounted at /content/drive\n"
          ]
        }
      ]
    },
    {
      "cell_type": "code",
      "source": [
        "import os    # la librería necesaria para la ruta de la carpeta\n",
        "os.chdir('/content/drive/MyDrive/Projects/Colombia-bankruptcy-prediction/DataSet')\n",
        "\n",
        "#mostar lista de archivos\n",
        "os.listdir()"
      ],
      "metadata": {
        "colab": {
          "base_uri": "https://localhost:8080/"
        },
        "id": "DBoOjt6GPYXB",
        "outputId": "a477b05f-c585-4da9-a283-98d51015fd6d"
      },
      "execution_count": 3,
      "outputs": [
        {
          "output_type": "execute_result",
          "data": {
            "text/plain": [
              "['example_submission.csv', 'train.csv', 'test.csv']"
            ]
          },
          "metadata": {},
          "execution_count": 3
        }
      ]
    },
    {
      "cell_type": "code",
      "source": [
        "# Load the training and test datasets\n",
        "df_train = pd.read_csv('train.csv')\n",
        "df_test = pd.read_csv('test.csv')"
      ],
      "metadata": {
        "id": "mnSWrPFfQFa7"
      },
      "execution_count": 4,
      "outputs": []
    },
    {
      "cell_type": "code",
      "source": [
        "# Display dataset dimensions\n",
        "print(f\"Dataset has {df_train.shape[0]} rows and {df_train.shape[1]} columns.\")"
      ],
      "metadata": {
        "id": "19-4_zGBFdnh",
        "colab": {
          "base_uri": "https://localhost:8080/"
        },
        "outputId": "b1d7cf8f-5cea-48ba-eb42-75c8140b5c56"
      },
      "execution_count": 5,
      "outputs": [
        {
          "output_type": "stream",
          "name": "stdout",
          "text": [
            "Dataset has 14097 rows and 13 columns.\n"
          ]
        }
      ]
    },
    {
      "cell_type": "code",
      "source": [
        "# Check the shape of the data\n",
        "print(f\"Dataset has {df_test.shape[0]} rows and {df_test.shape[1]} columns.\")"
      ],
      "metadata": {
        "colab": {
          "base_uri": "https://localhost:8080/"
        },
        "id": "lvLOje5fs9i5",
        "outputId": "7b394f33-a93f-4fe3-a062-5538b5f27fa9"
      },
      "execution_count": 6,
      "outputs": [
        {
          "output_type": "stream",
          "name": "stdout",
          "text": [
            "Dataset has 6042 rows and 12 columns.\n"
          ]
        }
      ]
    },
    {
      "cell_type": "code",
      "source": [
        "# Check data types and non-null values\n",
        "print(df_train.info())"
      ],
      "metadata": {
        "colab": {
          "base_uri": "https://localhost:8080/"
        },
        "id": "p5QlSNmt47rB",
        "outputId": "71ecaabd-e0fc-43dd-83e7-b1622e7ad904"
      },
      "execution_count": 7,
      "outputs": [
        {
          "output_type": "stream",
          "name": "stdout",
          "text": [
            "<class 'pandas.core.frame.DataFrame'>\n",
            "RangeIndex: 14097 entries, 0 to 14096\n",
            "Data columns (total 13 columns):\n",
            " #   Column                              Non-Null Count  Dtype  \n",
            "---  ------                              --------------  -----  \n",
            " 0   index                               14097 non-null  int64  \n",
            " 1   Ganancia bruta                      14097 non-null  float64\n",
            " 2   Ganancia (pérdida)                  14097 non-null  float64\n",
            " 3   Ingresos de actividades ordinarias  14097 non-null  float64\n",
            " 4   Costo de ventas                     12335 non-null  float64\n",
            " 5   Patrimonio total                    14097 non-null  float64\n",
            " 6   Total pasivos                       14097 non-null  float64\n",
            " 7   Total de activos                    14097 non-null  float64\n",
            " 8   Ganancias acumuladas                14061 non-null  float64\n",
            " 9   Pasivos corrientes totales          14059 non-null  float64\n",
            " 10  Activos corrientes totales          14092 non-null  float64\n",
            " 11  Sector                              14097 non-null  object \n",
            " 12  event                               14097 non-null  float64\n",
            "dtypes: float64(11), int64(1), object(1)\n",
            "memory usage: 1.4+ MB\n",
            "None\n"
          ]
        }
      ]
    },
    {
      "cell_type": "code",
      "source": [
        "# Summary statistics\n",
        "print(df_train.describe())"
      ],
      "metadata": {
        "colab": {
          "base_uri": "https://localhost:8080/"
        },
        "id": "11DIqTv55EEq",
        "outputId": "750471f8-0c2d-4dc0-eac1-d4be964a6f92"
      },
      "execution_count": 8,
      "outputs": [
        {
          "output_type": "stream",
          "name": "stdout",
          "text": [
            "              index  Ganancia bruta  Ganancia (pérdida)  \\\n",
            "count  14097.000000    1.409700e+04        1.409700e+04   \n",
            "mean   10156.616372    2.982942e+06        3.962406e+05   \n",
            "std     5912.146154    7.399979e+06        3.082754e+06   \n",
            "min        1.000000   -1.531074e+08       -1.679610e+08   \n",
            "25%     5010.000000    3.795030e+05        3.240000e+02   \n",
            "50%    10059.000000    1.222298e+06        1.379860e+05   \n",
            "75%    15301.000000    3.043982e+06        4.941270e+05   \n",
            "max    24950.000000    3.338862e+08        8.712783e+07   \n",
            "\n",
            "       Ingresos de actividades ordinarias  Costo de ventas  Patrimonio total  \\\n",
            "count                        1.409700e+04     1.233500e+04      1.409700e+04   \n",
            "mean                         1.081655e+07     9.011900e+06      7.445149e+06   \n",
            "std                          2.803366e+07     2.528155e+07      2.014086e+07   \n",
            "min                          0.000000e+00     0.000000e+00     -7.480299e+07   \n",
            "25%                          8.917180e+05     4.780630e+05      1.032290e+06   \n",
            "50%                          3.595087e+06     2.695090e+06      2.882399e+06   \n",
            "75%                          1.032298e+07     8.264965e+06      7.060428e+06   \n",
            "max                          1.328597e+09     1.321996e+09      6.683186e+08   \n",
            "\n",
            "       Total pasivos  Total de activos  Ganancias acumuladas  \\\n",
            "count   1.409700e+04      1.409700e+04          1.406100e+04   \n",
            "mean    7.273839e+06      1.471951e+07          3.417989e+06   \n",
            "std     1.672813e+07      3.054250e+07          1.726628e+07   \n",
            "min     0.000000e+00      1.000000e+00         -1.998511e+08   \n",
            "25%     1.018873e+06      3.140093e+06          1.390140e+05   \n",
            "50%     2.785160e+06      6.647588e+06          1.040858e+06   \n",
            "75%     6.947132e+06      1.474142e+07          3.392933e+06   \n",
            "max     4.415357e+08      7.215649e+08          1.421581e+09   \n",
            "\n",
            "       Pasivos corrientes totales  Activos corrientes totales         event  \n",
            "count                1.405900e+04                1.409200e+04  14097.000000  \n",
            "mean                 4.310787e+06                6.969396e+06      0.017521  \n",
            "std                  1.110633e+07                1.666954e+07      0.131209  \n",
            "min                  0.000000e+00                0.000000e+00      0.000000  \n",
            "25%                  4.813788e+05                1.106501e+06      0.000000  \n",
            "50%                  1.482636e+06                2.905333e+06      0.000000  \n",
            "75%                  4.065269e+06                6.954184e+06      0.000000  \n",
            "max                  3.441784e+08                6.908484e+08      1.000000  \n"
          ]
        }
      ]
    },
    {
      "cell_type": "markdown",
      "source": [
        "## Step 2: Data Description\n",
        "* Explored data types and identified a highly imbalanced target variable ('event').\n",
        "* Identified the role of the index is as an indentifier (not part of features)."
      ],
      "metadata": {
        "id": "xQwKflyASHyR"
      }
    },
    {
      "cell_type": "markdown",
      "source": [
        "## Step 3: Data exploration\n",
        "* Assessed class distribution: 247 bankrupt (1.0) vs. 13,850 non-bankrupt (0.0).\n",
        "* Considered feature relevance: Highlighted financial metrics as strong predictors."
      ],
      "metadata": {
        "id": "6KUlCczfSLup"
      }
    },
    {
      "cell_type": "code",
      "source": [
        "# Check class distribution for 'Event' (bankruptcy vs non-bankruptcy)\n",
        "print(df_train['event'].value_counts())"
      ],
      "metadata": {
        "colab": {
          "base_uri": "https://localhost:8080/"
        },
        "id": "aA3Xgu3D4Oaa",
        "outputId": "348344bd-c770-45bb-a992-5e7eaffe9044"
      },
      "execution_count": 9,
      "outputs": [
        {
          "output_type": "stream",
          "name": "stdout",
          "text": [
            "event\n",
            "0.0    13850\n",
            "1.0      247\n",
            "Name: count, dtype: int64\n"
          ]
        }
      ]
    },
    {
      "cell_type": "markdown",
      "source": [
        "### Exploring the data for both the training and test data"
      ],
      "metadata": {
        "id": "B6Jdu2hFGNfZ"
      }
    },
    {
      "cell_type": "code",
      "source": [
        "# Check for missing values\n",
        "print(df_train.isnull().sum())"
      ],
      "metadata": {
        "colab": {
          "base_uri": "https://localhost:8080/"
        },
        "id": "qpKcrRZYJdxv",
        "outputId": "14071600-b314-48cb-f64b-2d3d300ca1b2"
      },
      "execution_count": 10,
      "outputs": [
        {
          "output_type": "stream",
          "name": "stdout",
          "text": [
            "index                                    0\n",
            "Ganancia bruta                           0\n",
            "Ganancia (pérdida)                       0\n",
            "Ingresos de actividades ordinarias       0\n",
            "Costo de ventas                       1762\n",
            "Patrimonio total                         0\n",
            "Total pasivos                            0\n",
            "Total de activos                         0\n",
            "Ganancias acumuladas                    36\n",
            "Pasivos corrientes totales              38\n",
            "Activos corrientes totales               5\n",
            "Sector                                   0\n",
            "event                                    0\n",
            "dtype: int64\n"
          ]
        }
      ]
    },
    {
      "cell_type": "code",
      "source": [
        "# Check data types and non-null values\n",
        "print(df_test.info())\n"
      ],
      "metadata": {
        "id": "K7q11zmW34ZG",
        "colab": {
          "base_uri": "https://localhost:8080/"
        },
        "outputId": "2b474882-0881-467b-d3b5-8da7728e5e29"
      },
      "execution_count": 11,
      "outputs": [
        {
          "output_type": "stream",
          "name": "stdout",
          "text": [
            "<class 'pandas.core.frame.DataFrame'>\n",
            "RangeIndex: 6042 entries, 0 to 6041\n",
            "Data columns (total 12 columns):\n",
            " #   Column                              Non-Null Count  Dtype  \n",
            "---  ------                              --------------  -----  \n",
            " 0   index                               6042 non-null   int64  \n",
            " 1   Ganancia bruta                      6042 non-null   float64\n",
            " 2   Ganancia (pérdida)                  6042 non-null   float64\n",
            " 3   Ingresos de actividades ordinarias  6042 non-null   float64\n",
            " 4   Costo de ventas                     5350 non-null   float64\n",
            " 5   Patrimonio total                    6042 non-null   float64\n",
            " 6   Total pasivos                       6042 non-null   float64\n",
            " 7   Total de activos                    6042 non-null   float64\n",
            " 8   Ganancias acumuladas                6027 non-null   float64\n",
            " 9   Pasivos corrientes totales          6034 non-null   float64\n",
            " 10  Activos corrientes totales          6039 non-null   float64\n",
            " 11  Sector                              6042 non-null   object \n",
            "dtypes: float64(10), int64(1), object(1)\n",
            "memory usage: 566.6+ KB\n",
            "None\n"
          ]
        }
      ]
    },
    {
      "cell_type": "code",
      "source": [
        "# Check for missing values\n",
        "print(df_test.isnull().sum())"
      ],
      "metadata": {
        "colab": {
          "base_uri": "https://localhost:8080/"
        },
        "id": "3OaktrSvvK1g",
        "outputId": "308cc5ef-3c25-459e-817d-7a789731e2d8"
      },
      "execution_count": 12,
      "outputs": [
        {
          "output_type": "stream",
          "name": "stdout",
          "text": [
            "index                                   0\n",
            "Ganancia bruta                          0\n",
            "Ganancia (pérdida)                      0\n",
            "Ingresos de actividades ordinarias      0\n",
            "Costo de ventas                       692\n",
            "Patrimonio total                        0\n",
            "Total pasivos                           0\n",
            "Total de activos                        0\n",
            "Ganancias acumuladas                   15\n",
            "Pasivos corrientes totales              8\n",
            "Activos corrientes totales              3\n",
            "Sector                                  0\n",
            "dtype: int64\n"
          ]
        }
      ]
    },
    {
      "cell_type": "markdown",
      "source": [
        "# Component 2: Data preparation\n",
        "-------"
      ],
      "metadata": {
        "id": "TFZJ3K8hRcYD"
      }
    },
    {
      "cell_type": "markdown",
      "source": [
        "## Step 1: Data selection\n",
        "* Choose relevant columns and rows."
      ],
      "metadata": {
        "id": "T5AosjyFVpWK"
      }
    },
    {
      "cell_type": "markdown",
      "source": [
        "##Step 2: Data cleansing"
      ],
      "metadata": {
        "id": "RfLkwzg_Vshz"
      }
    },
    {
      "cell_type": "code",
      "source": [
        "# Check for missing values and fill them with median/mean values\n",
        "train_median_cost = df_train['Costo de ventas'].median()\n",
        "train_median_gains = df_train['Ganancias acumuladas'].median()\n",
        "train_median_liabilities = df_train['Pasivos corrientes totales'].median()\n",
        "train_mean_assets = df_train['Activos corrientes totales'].mean()\n",
        "\n",
        "# Apply to training and test sets\n",
        "df_train['Costo de ventas'].fillna(train_median_cost, inplace=True)\n",
        "df_train['Ganancias acumuladas'].fillna(train_median_gains, inplace=True)\n",
        "df_train['Pasivos corrientes totales'].fillna(train_median_liabilities, inplace=True)\n",
        "df_train['Activos corrientes totales'].fillna(train_mean_assets, inplace=True)\n",
        "\n",
        "df_test['Costo de ventas'].fillna(train_median_cost, inplace=True)\n",
        "df_test['Ganancias acumuladas'].fillna(train_median_gains, inplace=True)\n",
        "df_test['Pasivos corrientes totales'].fillna(train_median_liabilities, inplace=True)\n",
        "df_test['Activos corrientes totales'].fillna(train_mean_assets, inplace=True)"
      ],
      "metadata": {
        "id": "_jTJoSL86W-q"
      },
      "execution_count": 15,
      "outputs": []
    },
    {
      "cell_type": "code",
      "source": [
        "# Check for missing values\n",
        "print(df_train.isnull().sum())"
      ],
      "metadata": {
        "colab": {
          "base_uri": "https://localhost:8080/"
        },
        "id": "63JOZtlwvUGf",
        "outputId": "7c5ca687-476b-4e2e-87a6-d1135ce93db4"
      },
      "execution_count": 16,
      "outputs": [
        {
          "output_type": "stream",
          "name": "stdout",
          "text": [
            "index                                 0\n",
            "Ganancia bruta                        0\n",
            "Ganancia (pérdida)                    0\n",
            "Ingresos de actividades ordinarias    0\n",
            "Costo de ventas                       0\n",
            "Patrimonio total                      0\n",
            "Total pasivos                         0\n",
            "Total de activos                      0\n",
            "Ganancias acumuladas                  0\n",
            "Pasivos corrientes totales            0\n",
            "Activos corrientes totales            0\n",
            "Sector                                0\n",
            "event                                 0\n",
            "dtype: int64\n"
          ]
        }
      ]
    },
    {
      "cell_type": "code",
      "source": [
        "# Check for missing values\n",
        "print(df_test.isnull().sum())"
      ],
      "metadata": {
        "colab": {
          "base_uri": "https://localhost:8080/"
        },
        "id": "8P_HDZm4A8Aj",
        "outputId": "99500347-8374-472c-c28c-008b536c5c8a"
      },
      "execution_count": 17,
      "outputs": [
        {
          "output_type": "stream",
          "name": "stdout",
          "text": [
            "index                                 0\n",
            "Ganancia bruta                        0\n",
            "Ganancia (pérdida)                    0\n",
            "Ingresos de actividades ordinarias    0\n",
            "Costo de ventas                       0\n",
            "Patrimonio total                      0\n",
            "Total pasivos                         0\n",
            "Total de activos                      0\n",
            "Ganancias acumuladas                  0\n",
            "Pasivos corrientes totales            0\n",
            "Activos corrientes totales            0\n",
            "Sector                                0\n",
            "dtype: int64\n"
          ]
        }
      ]
    },
    {
      "cell_type": "code",
      "source": [
        "# Original dataset (before encoding/scaling)\n",
        "X = df_train.drop(columns=['event', 'index'])  # Drop target and irrelevant columns\n",
        "y = df_train['event']\n",
        "X_verification = df_test"
      ],
      "metadata": {
        "id": "JaCKwL3Wvcwc"
      },
      "execution_count": 18,
      "outputs": []
    },
    {
      "cell_type": "markdown",
      "source": [
        "# Component 3: Modeling\n",
        "-------"
      ],
      "metadata": {
        "id": "rHExInL8Rog6"
      }
    },
    {
      "cell_type": "markdown",
      "source": [
        "## Step 1: Selection of modeling techniques"
      ],
      "metadata": {
        "id": "8dEOxd_uWKlc"
      }
    },
    {
      "cell_type": "code",
      "source": [
        "#Splits the Train_set into train-test data to train the model\n",
        "X_train, X_test, y_train, y_test = train_test_split(X, y, test_size=0.2, random_state=42)"
      ],
      "metadata": {
        "id": "DeyfgceqI0FZ"
      },
      "execution_count": null,
      "outputs": []
    },
    {
      "cell_type": "code",
      "source": [
        "# Define a preprocessing pipeline\n",
        "preprocessor = ColumnTransformer(\n",
        "    transformers=[\n",
        "        ('encoder', OneHotEncoder(handle_unknown='ignore'), ['Sector']),\n",
        "        ('scaler', StandardScaler(), ['Costo de ventas', 'Ganancias acumuladas',\n",
        "                                      'Pasivos corrientes totales', 'Activos corrientes totales'])\n",
        "    ],\n",
        "    remainder='passthrough'\n",
        ")\n",
        "\n",
        "# Define pipelines with different sampling strategies\n",
        "modified_sampling9_11_pipeline = ImbPipeline([\n",
        "    ('preprocessor', preprocessor),\n",
        "    ('undersample', RandomUnderSampler(sampling_strategy={0: 900}, random_state=42)),\n",
        "    ('smoteenn', SMOTEENN(\n",
        "        smote=SMOTE(sampling_strategy={1: 1100}, random_state=42)\n",
        "    )),\n",
        "    ('classifier', XGBClassifier(\n",
        "        eval_metric='logloss',\n",
        "        learning_rate=0.03,\n",
        "        max_depth=3,\n",
        "        n_estimators=100,\n",
        "        colsample_bytree=0.8,\n",
        "        subsample=0.8,\n",
        "        random_state=42\n",
        "    ))\n",
        "])\n",
        "\n",
        "modified_sampling8_10_pipeline = ImbPipeline([\n",
        "    ('preprocessor', preprocessor),\n",
        "    ('undersample', RandomUnderSampler(sampling_strategy={0: 800}, random_state=42)),\n",
        "    ('smoteenn', SMOTEENN(\n",
        "        smote=SMOTE(sampling_strategy={1: 1000}, random_state=42)\n",
        "    )),\n",
        "    ('classifier', XGBClassifier(\n",
        "        eval_metric='logloss',\n",
        "        learning_rate=0.03,\n",
        "        max_depth=3,\n",
        "        n_estimators=100,\n",
        "        colsample_bytree=0.8,\n",
        "        subsample=0.8,\n",
        "        random_state=42\n",
        "    ))\n",
        "])\n",
        "\n",
        "modified_sampling10_10_pipeline = ImbPipeline([\n",
        "    ('preprocessor', preprocessor),\n",
        "    ('undersample', RandomUnderSampler(sampling_strategy={0: 100}, random_state=42)),\n",
        "    ('smoteenn', SMOTEENN(\n",
        "        smote=SMOTE(sampling_strategy={1: 1000}, random_state=42)\n",
        "    )),\n",
        "    ('classifier', XGBClassifier(\n",
        "        eval_metric='logloss',\n",
        "        learning_rate=0.03,\n",
        "        max_depth=3,\n",
        "        n_estimators=100,\n",
        "        colsample_bytree=0.8,\n",
        "        subsample=0.8,\n",
        "        random_state=42\n",
        "    ))\n",
        "])\n",
        "\n",
        "modified_sampling9_12_pipeline = ImbPipeline([\n",
        "    ('preprocessor', preprocessor),\n",
        "    ('undersample', RandomUnderSampler(sampling_strategy={0: 900}, random_state=42)),\n",
        "    ('smoteenn', SMOTEENN(\n",
        "        smote=SMOTE(sampling_strategy={1: 1200}, random_state=42)\n",
        "    )),\n",
        "    ('classifier', XGBClassifier(\n",
        "        eval_metric='logloss',\n",
        "        learning_rate=0.03,\n",
        "        max_depth=3,\n",
        "        n_estimators=100,\n",
        "        colsample_bytree=0.8,\n",
        "        subsample=0.8,\n",
        "        random_state=42\n",
        "    ))\n",
        "])\n"
      ],
      "metadata": {
        "id": "QbeOFmAJ1CPD"
      },
      "execution_count": null,
      "outputs": []
    },
    {
      "cell_type": "markdown",
      "source": [
        "### Testing the train data for predictions"
      ],
      "metadata": {
        "id": "-gsfwLuZaGio"
      }
    },
    {
      "cell_type": "code",
      "source": [
        "pipelines_to_compare = {\n",
        "    'Modified Sampling Pipeline 9_11': modified_sampling9_11_pipeline,\n",
        "    'Modified Sampling Pipeline 8_10': modified_sampling8_10_pipeline,\n",
        "    'Modified Sampling Pipeline 10_10': modified_sampling10_10_pipeline,\n",
        "    'Modified Sampling Pipeline 9_12': modified_sampling9_12_pipeline,\n",
        "}\n",
        "\n",
        "# Evaluate pipelines on the training set\n",
        "results = {}\n",
        "\n",
        "for name, pipeline in pipelines_to_compare.items():\n",
        "    print(f\"\\nEvaluating {name} on X_train...\")\n",
        "\n",
        "    # Train the pipeline\n",
        "    pipeline.fit(X_train, y_train)\n",
        "\n",
        "    # Predict on test data\n",
        "    y_pred = pipeline.predict(X_train)\n",
        "    y_pred_proba = pipeline.predict_proba(X_train)[:, 1]\n",
        "\n",
        "    # Calculate evaluation metrics\n",
        "    accuracy = accuracy_score(y_train, y_pred)\n",
        "    recall = recall_score(y_train, y_pred)\n",
        "    f1 = f1_score(y_train, y_pred)\n",
        "    auc = roc_auc_score(y_train, y_pred_proba)\n",
        "\n",
        "    # Store results\n",
        "    results[name] = {\n",
        "        'F1 Score': f1,\n",
        "        'Accuracy': accuracy,\n",
        "        'Recall': recall,\n",
        "        'ROC-AUC': auc\n",
        "    }\n",
        "\n",
        "    # Print classification report\n",
        "    print(\"\\nClassification Report:\")\n",
        "    print(classification_report(y_train, y_pred))\n",
        "\n",
        "# Display results for comparison\n",
        "results_df = pd.DataFrame(results).T\n",
        "\n",
        "print(\"Pipeline Comparison Results:\")\n",
        "display(results_df)\n",
        "\n"
      ],
      "metadata": {
        "colab": {
          "base_uri": "https://localhost:8080/",
          "height": 1000
        },
        "id": "ztaPuZwngBA6",
        "outputId": "3d6e42d1-5081-47d6-de2a-61df232d50ff"
      },
      "execution_count": null,
      "outputs": [
        {
          "output_type": "stream",
          "name": "stdout",
          "text": [
            "\n",
            "Evaluating Modified Sampling Pipeline 9_11 on X_train...\n",
            "\n",
            "Classification Report:\n",
            "              precision    recall  f1-score   support\n",
            "\n",
            "         0.0       1.00      0.63      0.77     11079\n",
            "         1.0       0.04      0.90      0.08       198\n",
            "\n",
            "    accuracy                           0.63     11277\n",
            "   macro avg       0.52      0.76      0.42     11277\n",
            "weighted avg       0.98      0.63      0.76     11277\n",
            "\n",
            "\n",
            "Evaluating Modified Sampling Pipeline 8_10 on X_train...\n",
            "\n",
            "Classification Report:\n",
            "              precision    recall  f1-score   support\n",
            "\n",
            "         0.0       1.00      0.60      0.75     11079\n",
            "         1.0       0.04      0.90      0.08       198\n",
            "\n",
            "    accuracy                           0.61     11277\n",
            "   macro avg       0.52      0.75      0.41     11277\n",
            "weighted avg       0.98      0.61      0.74     11277\n",
            "\n",
            "\n",
            "Evaluating Modified Sampling Pipeline 10_10 on X_train...\n",
            "\n",
            "Classification Report:\n",
            "              precision    recall  f1-score   support\n",
            "\n",
            "         0.0       1.00      0.07      0.13     11079\n",
            "         1.0       0.02      1.00      0.04       198\n",
            "\n",
            "    accuracy                           0.09     11277\n",
            "   macro avg       0.51      0.54      0.08     11277\n",
            "weighted avg       0.98      0.09      0.13     11277\n",
            "\n",
            "\n",
            "Evaluating Modified Sampling Pipeline 9_12 on X_train...\n",
            "\n",
            "Classification Report:\n",
            "              precision    recall  f1-score   support\n",
            "\n",
            "         0.0       1.00      0.62      0.77     11079\n",
            "         1.0       0.04      0.90      0.08       198\n",
            "\n",
            "    accuracy                           0.63     11277\n",
            "   macro avg       0.52      0.76      0.42     11277\n",
            "weighted avg       0.98      0.63      0.75     11277\n",
            "\n",
            "Pipeline Comparison Results:\n"
          ]
        },
        {
          "output_type": "display_data",
          "data": {
            "text/plain": [
              "                                  F1 Score  Accuracy   Recall   ROC-AUC\n",
              "Modified Sampling Pipeline 9_11   0.079164  0.632792  0.89899  0.840192\n",
              "Modified Sampling Pipeline 8_10   0.075210  0.609648  0.90404  0.841199\n",
              "Modified Sampling Pipeline 10_10  0.037054  0.087435  1.00000  0.741561\n",
              "Modified Sampling Pipeline 9_12   0.078036  0.627028  0.89899  0.841018"
            ],
            "text/html": [
              "\n",
              "  <div id=\"df-1cce8393-e95e-4547-8191-ba66d0a15b80\" class=\"colab-df-container\">\n",
              "    <div>\n",
              "<style scoped>\n",
              "    .dataframe tbody tr th:only-of-type {\n",
              "        vertical-align: middle;\n",
              "    }\n",
              "\n",
              "    .dataframe tbody tr th {\n",
              "        vertical-align: top;\n",
              "    }\n",
              "\n",
              "    .dataframe thead th {\n",
              "        text-align: right;\n",
              "    }\n",
              "</style>\n",
              "<table border=\"1\" class=\"dataframe\">\n",
              "  <thead>\n",
              "    <tr style=\"text-align: right;\">\n",
              "      <th></th>\n",
              "      <th>F1 Score</th>\n",
              "      <th>Accuracy</th>\n",
              "      <th>Recall</th>\n",
              "      <th>ROC-AUC</th>\n",
              "    </tr>\n",
              "  </thead>\n",
              "  <tbody>\n",
              "    <tr>\n",
              "      <th>Modified Sampling Pipeline 9_11</th>\n",
              "      <td>0.079164</td>\n",
              "      <td>0.632792</td>\n",
              "      <td>0.89899</td>\n",
              "      <td>0.840192</td>\n",
              "    </tr>\n",
              "    <tr>\n",
              "      <th>Modified Sampling Pipeline 8_10</th>\n",
              "      <td>0.075210</td>\n",
              "      <td>0.609648</td>\n",
              "      <td>0.90404</td>\n",
              "      <td>0.841199</td>\n",
              "    </tr>\n",
              "    <tr>\n",
              "      <th>Modified Sampling Pipeline 10_10</th>\n",
              "      <td>0.037054</td>\n",
              "      <td>0.087435</td>\n",
              "      <td>1.00000</td>\n",
              "      <td>0.741561</td>\n",
              "    </tr>\n",
              "    <tr>\n",
              "      <th>Modified Sampling Pipeline 9_12</th>\n",
              "      <td>0.078036</td>\n",
              "      <td>0.627028</td>\n",
              "      <td>0.89899</td>\n",
              "      <td>0.841018</td>\n",
              "    </tr>\n",
              "  </tbody>\n",
              "</table>\n",
              "</div>\n",
              "    <div class=\"colab-df-buttons\">\n",
              "\n",
              "  <div class=\"colab-df-container\">\n",
              "    <button class=\"colab-df-convert\" onclick=\"convertToInteractive('df-1cce8393-e95e-4547-8191-ba66d0a15b80')\"\n",
              "            title=\"Convert this dataframe to an interactive table.\"\n",
              "            style=\"display:none;\">\n",
              "\n",
              "  <svg xmlns=\"http://www.w3.org/2000/svg\" height=\"24px\" viewBox=\"0 -960 960 960\">\n",
              "    <path d=\"M120-120v-720h720v720H120Zm60-500h600v-160H180v160Zm220 220h160v-160H400v160Zm0 220h160v-160H400v160ZM180-400h160v-160H180v160Zm440 0h160v-160H620v160ZM180-180h160v-160H180v160Zm440 0h160v-160H620v160Z\"/>\n",
              "  </svg>\n",
              "    </button>\n",
              "\n",
              "  <style>\n",
              "    .colab-df-container {\n",
              "      display:flex;\n",
              "      gap: 12px;\n",
              "    }\n",
              "\n",
              "    .colab-df-convert {\n",
              "      background-color: #E8F0FE;\n",
              "      border: none;\n",
              "      border-radius: 50%;\n",
              "      cursor: pointer;\n",
              "      display: none;\n",
              "      fill: #1967D2;\n",
              "      height: 32px;\n",
              "      padding: 0 0 0 0;\n",
              "      width: 32px;\n",
              "    }\n",
              "\n",
              "    .colab-df-convert:hover {\n",
              "      background-color: #E2EBFA;\n",
              "      box-shadow: 0px 1px 2px rgba(60, 64, 67, 0.3), 0px 1px 3px 1px rgba(60, 64, 67, 0.15);\n",
              "      fill: #174EA6;\n",
              "    }\n",
              "\n",
              "    .colab-df-buttons div {\n",
              "      margin-bottom: 4px;\n",
              "    }\n",
              "\n",
              "    [theme=dark] .colab-df-convert {\n",
              "      background-color: #3B4455;\n",
              "      fill: #D2E3FC;\n",
              "    }\n",
              "\n",
              "    [theme=dark] .colab-df-convert:hover {\n",
              "      background-color: #434B5C;\n",
              "      box-shadow: 0px 1px 3px 1px rgba(0, 0, 0, 0.15);\n",
              "      filter: drop-shadow(0px 1px 2px rgba(0, 0, 0, 0.3));\n",
              "      fill: #FFFFFF;\n",
              "    }\n",
              "  </style>\n",
              "\n",
              "    <script>\n",
              "      const buttonEl =\n",
              "        document.querySelector('#df-1cce8393-e95e-4547-8191-ba66d0a15b80 button.colab-df-convert');\n",
              "      buttonEl.style.display =\n",
              "        google.colab.kernel.accessAllowed ? 'block' : 'none';\n",
              "\n",
              "      async function convertToInteractive(key) {\n",
              "        const element = document.querySelector('#df-1cce8393-e95e-4547-8191-ba66d0a15b80');\n",
              "        const dataTable =\n",
              "          await google.colab.kernel.invokeFunction('convertToInteractive',\n",
              "                                                    [key], {});\n",
              "        if (!dataTable) return;\n",
              "\n",
              "        const docLinkHtml = 'Like what you see? Visit the ' +\n",
              "          '<a target=\"_blank\" href=https://colab.research.google.com/notebooks/data_table.ipynb>data table notebook</a>'\n",
              "          + ' to learn more about interactive tables.';\n",
              "        element.innerHTML = '';\n",
              "        dataTable['output_type'] = 'display_data';\n",
              "        await google.colab.output.renderOutput(dataTable, element);\n",
              "        const docLink = document.createElement('div');\n",
              "        docLink.innerHTML = docLinkHtml;\n",
              "        element.appendChild(docLink);\n",
              "      }\n",
              "    </script>\n",
              "  </div>\n",
              "\n",
              "\n",
              "<div id=\"df-381a834f-ea3b-4c92-8cb5-8f59e8ee5129\">\n",
              "  <button class=\"colab-df-quickchart\" onclick=\"quickchart('df-381a834f-ea3b-4c92-8cb5-8f59e8ee5129')\"\n",
              "            title=\"Suggest charts\"\n",
              "            style=\"display:none;\">\n",
              "\n",
              "<svg xmlns=\"http://www.w3.org/2000/svg\" height=\"24px\"viewBox=\"0 0 24 24\"\n",
              "     width=\"24px\">\n",
              "    <g>\n",
              "        <path d=\"M19 3H5c-1.1 0-2 .9-2 2v14c0 1.1.9 2 2 2h14c1.1 0 2-.9 2-2V5c0-1.1-.9-2-2-2zM9 17H7v-7h2v7zm4 0h-2V7h2v10zm4 0h-2v-4h2v4z\"/>\n",
              "    </g>\n",
              "</svg>\n",
              "  </button>\n",
              "\n",
              "<style>\n",
              "  .colab-df-quickchart {\n",
              "      --bg-color: #E8F0FE;\n",
              "      --fill-color: #1967D2;\n",
              "      --hover-bg-color: #E2EBFA;\n",
              "      --hover-fill-color: #174EA6;\n",
              "      --disabled-fill-color: #AAA;\n",
              "      --disabled-bg-color: #DDD;\n",
              "  }\n",
              "\n",
              "  [theme=dark] .colab-df-quickchart {\n",
              "      --bg-color: #3B4455;\n",
              "      --fill-color: #D2E3FC;\n",
              "      --hover-bg-color: #434B5C;\n",
              "      --hover-fill-color: #FFFFFF;\n",
              "      --disabled-bg-color: #3B4455;\n",
              "      --disabled-fill-color: #666;\n",
              "  }\n",
              "\n",
              "  .colab-df-quickchart {\n",
              "    background-color: var(--bg-color);\n",
              "    border: none;\n",
              "    border-radius: 50%;\n",
              "    cursor: pointer;\n",
              "    display: none;\n",
              "    fill: var(--fill-color);\n",
              "    height: 32px;\n",
              "    padding: 0;\n",
              "    width: 32px;\n",
              "  }\n",
              "\n",
              "  .colab-df-quickchart:hover {\n",
              "    background-color: var(--hover-bg-color);\n",
              "    box-shadow: 0 1px 2px rgba(60, 64, 67, 0.3), 0 1px 3px 1px rgba(60, 64, 67, 0.15);\n",
              "    fill: var(--button-hover-fill-color);\n",
              "  }\n",
              "\n",
              "  .colab-df-quickchart-complete:disabled,\n",
              "  .colab-df-quickchart-complete:disabled:hover {\n",
              "    background-color: var(--disabled-bg-color);\n",
              "    fill: var(--disabled-fill-color);\n",
              "    box-shadow: none;\n",
              "  }\n",
              "\n",
              "  .colab-df-spinner {\n",
              "    border: 2px solid var(--fill-color);\n",
              "    border-color: transparent;\n",
              "    border-bottom-color: var(--fill-color);\n",
              "    animation:\n",
              "      spin 1s steps(1) infinite;\n",
              "  }\n",
              "\n",
              "  @keyframes spin {\n",
              "    0% {\n",
              "      border-color: transparent;\n",
              "      border-bottom-color: var(--fill-color);\n",
              "      border-left-color: var(--fill-color);\n",
              "    }\n",
              "    20% {\n",
              "      border-color: transparent;\n",
              "      border-left-color: var(--fill-color);\n",
              "      border-top-color: var(--fill-color);\n",
              "    }\n",
              "    30% {\n",
              "      border-color: transparent;\n",
              "      border-left-color: var(--fill-color);\n",
              "      border-top-color: var(--fill-color);\n",
              "      border-right-color: var(--fill-color);\n",
              "    }\n",
              "    40% {\n",
              "      border-color: transparent;\n",
              "      border-right-color: var(--fill-color);\n",
              "      border-top-color: var(--fill-color);\n",
              "    }\n",
              "    60% {\n",
              "      border-color: transparent;\n",
              "      border-right-color: var(--fill-color);\n",
              "    }\n",
              "    80% {\n",
              "      border-color: transparent;\n",
              "      border-right-color: var(--fill-color);\n",
              "      border-bottom-color: var(--fill-color);\n",
              "    }\n",
              "    90% {\n",
              "      border-color: transparent;\n",
              "      border-bottom-color: var(--fill-color);\n",
              "    }\n",
              "  }\n",
              "</style>\n",
              "\n",
              "  <script>\n",
              "    async function quickchart(key) {\n",
              "      const quickchartButtonEl =\n",
              "        document.querySelector('#' + key + ' button');\n",
              "      quickchartButtonEl.disabled = true;  // To prevent multiple clicks.\n",
              "      quickchartButtonEl.classList.add('colab-df-spinner');\n",
              "      try {\n",
              "        const charts = await google.colab.kernel.invokeFunction(\n",
              "            'suggestCharts', [key], {});\n",
              "      } catch (error) {\n",
              "        console.error('Error during call to suggestCharts:', error);\n",
              "      }\n",
              "      quickchartButtonEl.classList.remove('colab-df-spinner');\n",
              "      quickchartButtonEl.classList.add('colab-df-quickchart-complete');\n",
              "    }\n",
              "    (() => {\n",
              "      let quickchartButtonEl =\n",
              "        document.querySelector('#df-381a834f-ea3b-4c92-8cb5-8f59e8ee5129 button');\n",
              "      quickchartButtonEl.style.display =\n",
              "        google.colab.kernel.accessAllowed ? 'block' : 'none';\n",
              "    })();\n",
              "  </script>\n",
              "</div>\n",
              "\n",
              "  <div id=\"id_130eb0de-ea9d-45f5-9968-e7f10b03a46b\">\n",
              "    <style>\n",
              "      .colab-df-generate {\n",
              "        background-color: #E8F0FE;\n",
              "        border: none;\n",
              "        border-radius: 50%;\n",
              "        cursor: pointer;\n",
              "        display: none;\n",
              "        fill: #1967D2;\n",
              "        height: 32px;\n",
              "        padding: 0 0 0 0;\n",
              "        width: 32px;\n",
              "      }\n",
              "\n",
              "      .colab-df-generate:hover {\n",
              "        background-color: #E2EBFA;\n",
              "        box-shadow: 0px 1px 2px rgba(60, 64, 67, 0.3), 0px 1px 3px 1px rgba(60, 64, 67, 0.15);\n",
              "        fill: #174EA6;\n",
              "      }\n",
              "\n",
              "      [theme=dark] .colab-df-generate {\n",
              "        background-color: #3B4455;\n",
              "        fill: #D2E3FC;\n",
              "      }\n",
              "\n",
              "      [theme=dark] .colab-df-generate:hover {\n",
              "        background-color: #434B5C;\n",
              "        box-shadow: 0px 1px 3px 1px rgba(0, 0, 0, 0.15);\n",
              "        filter: drop-shadow(0px 1px 2px rgba(0, 0, 0, 0.3));\n",
              "        fill: #FFFFFF;\n",
              "      }\n",
              "    </style>\n",
              "    <button class=\"colab-df-generate\" onclick=\"generateWithVariable('results_df')\"\n",
              "            title=\"Generate code using this dataframe.\"\n",
              "            style=\"display:none;\">\n",
              "\n",
              "  <svg xmlns=\"http://www.w3.org/2000/svg\" height=\"24px\"viewBox=\"0 0 24 24\"\n",
              "       width=\"24px\">\n",
              "    <path d=\"M7,19H8.4L18.45,9,17,7.55,7,17.6ZM5,21V16.75L18.45,3.32a2,2,0,0,1,2.83,0l1.4,1.43a1.91,1.91,0,0,1,.58,1.4,1.91,1.91,0,0,1-.58,1.4L9.25,21ZM18.45,9,17,7.55Zm-12,3A5.31,5.31,0,0,0,4.9,8.1,5.31,5.31,0,0,0,1,6.5,5.31,5.31,0,0,0,4.9,4.9,5.31,5.31,0,0,0,6.5,1,5.31,5.31,0,0,0,8.1,4.9,5.31,5.31,0,0,0,12,6.5,5.46,5.46,0,0,0,6.5,12Z\"/>\n",
              "  </svg>\n",
              "    </button>\n",
              "    <script>\n",
              "      (() => {\n",
              "      const buttonEl =\n",
              "        document.querySelector('#id_130eb0de-ea9d-45f5-9968-e7f10b03a46b button.colab-df-generate');\n",
              "      buttonEl.style.display =\n",
              "        google.colab.kernel.accessAllowed ? 'block' : 'none';\n",
              "\n",
              "      buttonEl.onclick = () => {\n",
              "        google.colab.notebook.generateWithVariable('results_df');\n",
              "      }\n",
              "      })();\n",
              "    </script>\n",
              "  </div>\n",
              "\n",
              "    </div>\n",
              "  </div>\n"
            ],
            "application/vnd.google.colaboratory.intrinsic+json": {
              "type": "dataframe",
              "variable_name": "results_df",
              "summary": "{\n  \"name\": \"results_df\",\n  \"rows\": 4,\n  \"fields\": [\n    {\n      \"column\": \"F1 Score\",\n      \"properties\": {\n        \"dtype\": \"number\",\n        \"std\": 0.02027611745285291,\n        \"min\": 0.03705436511649668,\n        \"max\": 0.07916388703580164,\n        \"num_unique_values\": 4,\n        \"samples\": [\n          0.07521008403361344,\n          0.07803594914511179,\n          0.07916388703580164\n        ],\n        \"semantic_type\": \"\",\n        \"description\": \"\"\n      }\n    },\n    {\n      \"column\": \"Accuracy\",\n      \"properties\": {\n        \"dtype\": \"number\",\n        \"std\": 0.2680414201395369,\n        \"min\": 0.08743460140108185,\n        \"max\": 0.6327924093287222,\n        \"num_unique_values\": 4,\n        \"samples\": [\n          0.6096479560166711,\n          0.6270284650172918,\n          0.6327924093287222\n        ],\n        \"semantic_type\": \"\",\n        \"description\": \"\"\n      }\n    },\n    {\n      \"column\": \"Recall\",\n      \"properties\": {\n        \"dtype\": \"number\",\n        \"std\": 0.049720334766405236,\n        \"min\": 0.898989898989899,\n        \"max\": 1.0,\n        \"num_unique_values\": 3,\n        \"samples\": [\n          0.898989898989899,\n          0.9040404040404041,\n          1.0\n        ],\n        \"semantic_type\": \"\",\n        \"description\": \"\"\n      }\n    },\n    {\n      \"column\": \"ROC-AUC\",\n      \"properties\": {\n        \"dtype\": \"number\",\n        \"std\": 0.04962307064706258,\n        \"min\": 0.741560610163372,\n        \"max\": 0.8411994755753218,\n        \"num_unique_values\": 4,\n        \"samples\": [\n          0.8411994755753218,\n          0.8410175862788916,\n          0.8401915627071328\n        ],\n        \"semantic_type\": \"\",\n        \"description\": \"\"\n      }\n    }\n  ]\n}"
            }
          },
          "metadata": {}
        }
      ]
    },
    {
      "cell_type": "markdown",
      "source": [
        "## Step 4: Model evaluation"
      ],
      "metadata": {
        "id": "1-w6cJfPWWTa"
      }
    },
    {
      "cell_type": "markdown",
      "source": [
        "## Evaluation of the results"
      ],
      "metadata": {
        "id": "CY6b_wJjWaVy"
      }
    },
    {
      "cell_type": "code",
      "source": [
        "pipelines_to_compare = {\n",
        "    'Modified Sampling Pipeline 9_11': modified_sampling9_11_pipeline,\n",
        "    'Modified Sampling Pipeline 8_10': modified_sampling8_10_pipeline,\n",
        "    'Modified Sampling Pipeline 10_10': modified_sampling10_10_pipeline,\n",
        "    'Modified Sampling Pipeline 9_12': modified_sampling9_12_pipeline\n",
        "}\n",
        "\n",
        "results = {}\n",
        "\n",
        "for name, pipeline in pipelines_to_compare.items():\n",
        "    print(f\"\\nEvaluating {name} on X_test...\")\n",
        "\n",
        "    # Train the pipeline\n",
        "    pipeline.fit(X_train, y_train)\n",
        "\n",
        "    # Predict on test data\n",
        "    y_pred = pipeline.predict(X_test)\n",
        "    y_pred_proba = pipeline.predict_proba(X_test)[:, 1]\n",
        "\n",
        "    # Calculate evaluation metrics\n",
        "    accuracy = accuracy_score(y_test, y_pred)\n",
        "    recall = recall_score(y_test, y_pred)\n",
        "    f1 = f1_score(y_test, y_pred)\n",
        "    auc = roc_auc_score(y_test, y_pred_proba)\n",
        "\n",
        "    # Store results\n",
        "    results[name] = {\n",
        "        'F1 Score': f1,\n",
        "        'Accuracy': accuracy,\n",
        "        'Recall': recall,\n",
        "        'ROC-AUC': auc\n",
        "    }\n",
        "\n",
        "    # Print classification report\n",
        "    print(\"\\nClassification Report:\")\n",
        "    print(classification_report(y_test, y_pred))\n",
        "\n",
        "# Display results for comparison\n",
        "results_df = pd.DataFrame(results).T\n",
        "\n",
        "print(\"Pipeline Comparison Results:\")\n",
        "display(results_df)\n",
        "\n"
      ],
      "metadata": {
        "id": "Nj8Hv099EYE1",
        "colab": {
          "base_uri": "https://localhost:8080/",
          "height": 1000
        },
        "outputId": "0c845883-ef8b-4588-b7ad-a5fcf414920a"
      },
      "execution_count": null,
      "outputs": [
        {
          "output_type": "stream",
          "name": "stdout",
          "text": [
            "\n",
            "Evaluating Modified Sampling Pipeline 9_11 on X_test...\n",
            "\n",
            "Classification Report:\n",
            "              precision    recall  f1-score   support\n",
            "\n",
            "         0.0       1.00      0.61      0.76      2771\n",
            "         1.0       0.04      0.84      0.07        49\n",
            "\n",
            "    accuracy                           0.62      2820\n",
            "   macro avg       0.52      0.72      0.41      2820\n",
            "weighted avg       0.98      0.62      0.75      2820\n",
            "\n",
            "\n",
            "Evaluating Modified Sampling Pipeline 8_10 on X_test...\n",
            "\n",
            "Classification Report:\n",
            "              precision    recall  f1-score   support\n",
            "\n",
            "         0.0       1.00      0.59      0.74      2771\n",
            "         1.0       0.04      0.88      0.07        49\n",
            "\n",
            "    accuracy                           0.59      2820\n",
            "   macro avg       0.52      0.73      0.41      2820\n",
            "weighted avg       0.98      0.59      0.73      2820\n",
            "\n",
            "\n",
            "Evaluating Modified Sampling Pipeline 10_10 on X_test...\n",
            "\n",
            "Classification Report:\n",
            "              precision    recall  f1-score   support\n",
            "\n",
            "         0.0       0.99      0.07      0.13      2771\n",
            "         1.0       0.02      0.98      0.04        49\n",
            "\n",
            "    accuracy                           0.08      2820\n",
            "   macro avg       0.51      0.52      0.08      2820\n",
            "weighted avg       0.98      0.08      0.12      2820\n",
            "\n",
            "\n",
            "Evaluating Modified Sampling Pipeline 9_12 on X_test...\n",
            "\n",
            "Classification Report:\n",
            "              precision    recall  f1-score   support\n",
            "\n",
            "         0.0       0.99      0.60      0.75      2771\n",
            "         1.0       0.03      0.80      0.07        49\n",
            "\n",
            "    accuracy                           0.61      2820\n",
            "   macro avg       0.51      0.70      0.41      2820\n",
            "weighted avg       0.98      0.61      0.74      2820\n",
            "\n",
            "Pipeline Comparison Results:\n"
          ]
        },
        {
          "output_type": "display_data",
          "data": {
            "text/plain": [
              "                                  F1 Score  Accuracy    Recall   ROC-AUC\n",
              "Modified Sampling Pipeline 9_11   0.070447  0.616312  0.836735  0.800415\n",
              "Modified Sampling Pipeline 8_10   0.069976  0.594681  0.877551  0.814154\n",
              "Modified Sampling Pipeline 10_10  0.035794  0.082979  0.979592  0.742191\n",
              "Modified Sampling Pipeline 9_12   0.065934  0.608156  0.795918  0.803821"
            ],
            "text/html": [
              "\n",
              "  <div id=\"df-d2c5665e-5184-441b-bf39-52834f9085a8\" class=\"colab-df-container\">\n",
              "    <div>\n",
              "<style scoped>\n",
              "    .dataframe tbody tr th:only-of-type {\n",
              "        vertical-align: middle;\n",
              "    }\n",
              "\n",
              "    .dataframe tbody tr th {\n",
              "        vertical-align: top;\n",
              "    }\n",
              "\n",
              "    .dataframe thead th {\n",
              "        text-align: right;\n",
              "    }\n",
              "</style>\n",
              "<table border=\"1\" class=\"dataframe\">\n",
              "  <thead>\n",
              "    <tr style=\"text-align: right;\">\n",
              "      <th></th>\n",
              "      <th>F1 Score</th>\n",
              "      <th>Accuracy</th>\n",
              "      <th>Recall</th>\n",
              "      <th>ROC-AUC</th>\n",
              "    </tr>\n",
              "  </thead>\n",
              "  <tbody>\n",
              "    <tr>\n",
              "      <th>Modified Sampling Pipeline 9_11</th>\n",
              "      <td>0.070447</td>\n",
              "      <td>0.616312</td>\n",
              "      <td>0.836735</td>\n",
              "      <td>0.800415</td>\n",
              "    </tr>\n",
              "    <tr>\n",
              "      <th>Modified Sampling Pipeline 8_10</th>\n",
              "      <td>0.069976</td>\n",
              "      <td>0.594681</td>\n",
              "      <td>0.877551</td>\n",
              "      <td>0.814154</td>\n",
              "    </tr>\n",
              "    <tr>\n",
              "      <th>Modified Sampling Pipeline 10_10</th>\n",
              "      <td>0.035794</td>\n",
              "      <td>0.082979</td>\n",
              "      <td>0.979592</td>\n",
              "      <td>0.742191</td>\n",
              "    </tr>\n",
              "    <tr>\n",
              "      <th>Modified Sampling Pipeline 9_12</th>\n",
              "      <td>0.065934</td>\n",
              "      <td>0.608156</td>\n",
              "      <td>0.795918</td>\n",
              "      <td>0.803821</td>\n",
              "    </tr>\n",
              "  </tbody>\n",
              "</table>\n",
              "</div>\n",
              "    <div class=\"colab-df-buttons\">\n",
              "\n",
              "  <div class=\"colab-df-container\">\n",
              "    <button class=\"colab-df-convert\" onclick=\"convertToInteractive('df-d2c5665e-5184-441b-bf39-52834f9085a8')\"\n",
              "            title=\"Convert this dataframe to an interactive table.\"\n",
              "            style=\"display:none;\">\n",
              "\n",
              "  <svg xmlns=\"http://www.w3.org/2000/svg\" height=\"24px\" viewBox=\"0 -960 960 960\">\n",
              "    <path d=\"M120-120v-720h720v720H120Zm60-500h600v-160H180v160Zm220 220h160v-160H400v160Zm0 220h160v-160H400v160ZM180-400h160v-160H180v160Zm440 0h160v-160H620v160ZM180-180h160v-160H180v160Zm440 0h160v-160H620v160Z\"/>\n",
              "  </svg>\n",
              "    </button>\n",
              "\n",
              "  <style>\n",
              "    .colab-df-container {\n",
              "      display:flex;\n",
              "      gap: 12px;\n",
              "    }\n",
              "\n",
              "    .colab-df-convert {\n",
              "      background-color: #E8F0FE;\n",
              "      border: none;\n",
              "      border-radius: 50%;\n",
              "      cursor: pointer;\n",
              "      display: none;\n",
              "      fill: #1967D2;\n",
              "      height: 32px;\n",
              "      padding: 0 0 0 0;\n",
              "      width: 32px;\n",
              "    }\n",
              "\n",
              "    .colab-df-convert:hover {\n",
              "      background-color: #E2EBFA;\n",
              "      box-shadow: 0px 1px 2px rgba(60, 64, 67, 0.3), 0px 1px 3px 1px rgba(60, 64, 67, 0.15);\n",
              "      fill: #174EA6;\n",
              "    }\n",
              "\n",
              "    .colab-df-buttons div {\n",
              "      margin-bottom: 4px;\n",
              "    }\n",
              "\n",
              "    [theme=dark] .colab-df-convert {\n",
              "      background-color: #3B4455;\n",
              "      fill: #D2E3FC;\n",
              "    }\n",
              "\n",
              "    [theme=dark] .colab-df-convert:hover {\n",
              "      background-color: #434B5C;\n",
              "      box-shadow: 0px 1px 3px 1px rgba(0, 0, 0, 0.15);\n",
              "      filter: drop-shadow(0px 1px 2px rgba(0, 0, 0, 0.3));\n",
              "      fill: #FFFFFF;\n",
              "    }\n",
              "  </style>\n",
              "\n",
              "    <script>\n",
              "      const buttonEl =\n",
              "        document.querySelector('#df-d2c5665e-5184-441b-bf39-52834f9085a8 button.colab-df-convert');\n",
              "      buttonEl.style.display =\n",
              "        google.colab.kernel.accessAllowed ? 'block' : 'none';\n",
              "\n",
              "      async function convertToInteractive(key) {\n",
              "        const element = document.querySelector('#df-d2c5665e-5184-441b-bf39-52834f9085a8');\n",
              "        const dataTable =\n",
              "          await google.colab.kernel.invokeFunction('convertToInteractive',\n",
              "                                                    [key], {});\n",
              "        if (!dataTable) return;\n",
              "\n",
              "        const docLinkHtml = 'Like what you see? Visit the ' +\n",
              "          '<a target=\"_blank\" href=https://colab.research.google.com/notebooks/data_table.ipynb>data table notebook</a>'\n",
              "          + ' to learn more about interactive tables.';\n",
              "        element.innerHTML = '';\n",
              "        dataTable['output_type'] = 'display_data';\n",
              "        await google.colab.output.renderOutput(dataTable, element);\n",
              "        const docLink = document.createElement('div');\n",
              "        docLink.innerHTML = docLinkHtml;\n",
              "        element.appendChild(docLink);\n",
              "      }\n",
              "    </script>\n",
              "  </div>\n",
              "\n",
              "\n",
              "<div id=\"df-7dc1d044-6932-46ea-9ff3-86838823763a\">\n",
              "  <button class=\"colab-df-quickchart\" onclick=\"quickchart('df-7dc1d044-6932-46ea-9ff3-86838823763a')\"\n",
              "            title=\"Suggest charts\"\n",
              "            style=\"display:none;\">\n",
              "\n",
              "<svg xmlns=\"http://www.w3.org/2000/svg\" height=\"24px\"viewBox=\"0 0 24 24\"\n",
              "     width=\"24px\">\n",
              "    <g>\n",
              "        <path d=\"M19 3H5c-1.1 0-2 .9-2 2v14c0 1.1.9 2 2 2h14c1.1 0 2-.9 2-2V5c0-1.1-.9-2-2-2zM9 17H7v-7h2v7zm4 0h-2V7h2v10zm4 0h-2v-4h2v4z\"/>\n",
              "    </g>\n",
              "</svg>\n",
              "  </button>\n",
              "\n",
              "<style>\n",
              "  .colab-df-quickchart {\n",
              "      --bg-color: #E8F0FE;\n",
              "      --fill-color: #1967D2;\n",
              "      --hover-bg-color: #E2EBFA;\n",
              "      --hover-fill-color: #174EA6;\n",
              "      --disabled-fill-color: #AAA;\n",
              "      --disabled-bg-color: #DDD;\n",
              "  }\n",
              "\n",
              "  [theme=dark] .colab-df-quickchart {\n",
              "      --bg-color: #3B4455;\n",
              "      --fill-color: #D2E3FC;\n",
              "      --hover-bg-color: #434B5C;\n",
              "      --hover-fill-color: #FFFFFF;\n",
              "      --disabled-bg-color: #3B4455;\n",
              "      --disabled-fill-color: #666;\n",
              "  }\n",
              "\n",
              "  .colab-df-quickchart {\n",
              "    background-color: var(--bg-color);\n",
              "    border: none;\n",
              "    border-radius: 50%;\n",
              "    cursor: pointer;\n",
              "    display: none;\n",
              "    fill: var(--fill-color);\n",
              "    height: 32px;\n",
              "    padding: 0;\n",
              "    width: 32px;\n",
              "  }\n",
              "\n",
              "  .colab-df-quickchart:hover {\n",
              "    background-color: var(--hover-bg-color);\n",
              "    box-shadow: 0 1px 2px rgba(60, 64, 67, 0.3), 0 1px 3px 1px rgba(60, 64, 67, 0.15);\n",
              "    fill: var(--button-hover-fill-color);\n",
              "  }\n",
              "\n",
              "  .colab-df-quickchart-complete:disabled,\n",
              "  .colab-df-quickchart-complete:disabled:hover {\n",
              "    background-color: var(--disabled-bg-color);\n",
              "    fill: var(--disabled-fill-color);\n",
              "    box-shadow: none;\n",
              "  }\n",
              "\n",
              "  .colab-df-spinner {\n",
              "    border: 2px solid var(--fill-color);\n",
              "    border-color: transparent;\n",
              "    border-bottom-color: var(--fill-color);\n",
              "    animation:\n",
              "      spin 1s steps(1) infinite;\n",
              "  }\n",
              "\n",
              "  @keyframes spin {\n",
              "    0% {\n",
              "      border-color: transparent;\n",
              "      border-bottom-color: var(--fill-color);\n",
              "      border-left-color: var(--fill-color);\n",
              "    }\n",
              "    20% {\n",
              "      border-color: transparent;\n",
              "      border-left-color: var(--fill-color);\n",
              "      border-top-color: var(--fill-color);\n",
              "    }\n",
              "    30% {\n",
              "      border-color: transparent;\n",
              "      border-left-color: var(--fill-color);\n",
              "      border-top-color: var(--fill-color);\n",
              "      border-right-color: var(--fill-color);\n",
              "    }\n",
              "    40% {\n",
              "      border-color: transparent;\n",
              "      border-right-color: var(--fill-color);\n",
              "      border-top-color: var(--fill-color);\n",
              "    }\n",
              "    60% {\n",
              "      border-color: transparent;\n",
              "      border-right-color: var(--fill-color);\n",
              "    }\n",
              "    80% {\n",
              "      border-color: transparent;\n",
              "      border-right-color: var(--fill-color);\n",
              "      border-bottom-color: var(--fill-color);\n",
              "    }\n",
              "    90% {\n",
              "      border-color: transparent;\n",
              "      border-bottom-color: var(--fill-color);\n",
              "    }\n",
              "  }\n",
              "</style>\n",
              "\n",
              "  <script>\n",
              "    async function quickchart(key) {\n",
              "      const quickchartButtonEl =\n",
              "        document.querySelector('#' + key + ' button');\n",
              "      quickchartButtonEl.disabled = true;  // To prevent multiple clicks.\n",
              "      quickchartButtonEl.classList.add('colab-df-spinner');\n",
              "      try {\n",
              "        const charts = await google.colab.kernel.invokeFunction(\n",
              "            'suggestCharts', [key], {});\n",
              "      } catch (error) {\n",
              "        console.error('Error during call to suggestCharts:', error);\n",
              "      }\n",
              "      quickchartButtonEl.classList.remove('colab-df-spinner');\n",
              "      quickchartButtonEl.classList.add('colab-df-quickchart-complete');\n",
              "    }\n",
              "    (() => {\n",
              "      let quickchartButtonEl =\n",
              "        document.querySelector('#df-7dc1d044-6932-46ea-9ff3-86838823763a button');\n",
              "      quickchartButtonEl.style.display =\n",
              "        google.colab.kernel.accessAllowed ? 'block' : 'none';\n",
              "    })();\n",
              "  </script>\n",
              "</div>\n",
              "\n",
              "  <div id=\"id_ab688373-61dd-434b-9fe9-2c28b7072a14\">\n",
              "    <style>\n",
              "      .colab-df-generate {\n",
              "        background-color: #E8F0FE;\n",
              "        border: none;\n",
              "        border-radius: 50%;\n",
              "        cursor: pointer;\n",
              "        display: none;\n",
              "        fill: #1967D2;\n",
              "        height: 32px;\n",
              "        padding: 0 0 0 0;\n",
              "        width: 32px;\n",
              "      }\n",
              "\n",
              "      .colab-df-generate:hover {\n",
              "        background-color: #E2EBFA;\n",
              "        box-shadow: 0px 1px 2px rgba(60, 64, 67, 0.3), 0px 1px 3px 1px rgba(60, 64, 67, 0.15);\n",
              "        fill: #174EA6;\n",
              "      }\n",
              "\n",
              "      [theme=dark] .colab-df-generate {\n",
              "        background-color: #3B4455;\n",
              "        fill: #D2E3FC;\n",
              "      }\n",
              "\n",
              "      [theme=dark] .colab-df-generate:hover {\n",
              "        background-color: #434B5C;\n",
              "        box-shadow: 0px 1px 3px 1px rgba(0, 0, 0, 0.15);\n",
              "        filter: drop-shadow(0px 1px 2px rgba(0, 0, 0, 0.3));\n",
              "        fill: #FFFFFF;\n",
              "      }\n",
              "    </style>\n",
              "    <button class=\"colab-df-generate\" onclick=\"generateWithVariable('results_df')\"\n",
              "            title=\"Generate code using this dataframe.\"\n",
              "            style=\"display:none;\">\n",
              "\n",
              "  <svg xmlns=\"http://www.w3.org/2000/svg\" height=\"24px\"viewBox=\"0 0 24 24\"\n",
              "       width=\"24px\">\n",
              "    <path d=\"M7,19H8.4L18.45,9,17,7.55,7,17.6ZM5,21V16.75L18.45,3.32a2,2,0,0,1,2.83,0l1.4,1.43a1.91,1.91,0,0,1,.58,1.4,1.91,1.91,0,0,1-.58,1.4L9.25,21ZM18.45,9,17,7.55Zm-12,3A5.31,5.31,0,0,0,4.9,8.1,5.31,5.31,0,0,0,1,6.5,5.31,5.31,0,0,0,4.9,4.9,5.31,5.31,0,0,0,6.5,1,5.31,5.31,0,0,0,8.1,4.9,5.31,5.31,0,0,0,12,6.5,5.46,5.46,0,0,0,6.5,12Z\"/>\n",
              "  </svg>\n",
              "    </button>\n",
              "    <script>\n",
              "      (() => {\n",
              "      const buttonEl =\n",
              "        document.querySelector('#id_ab688373-61dd-434b-9fe9-2c28b7072a14 button.colab-df-generate');\n",
              "      buttonEl.style.display =\n",
              "        google.colab.kernel.accessAllowed ? 'block' : 'none';\n",
              "\n",
              "      buttonEl.onclick = () => {\n",
              "        google.colab.notebook.generateWithVariable('results_df');\n",
              "      }\n",
              "      })();\n",
              "    </script>\n",
              "  </div>\n",
              "\n",
              "    </div>\n",
              "  </div>\n"
            ],
            "application/vnd.google.colaboratory.intrinsic+json": {
              "type": "dataframe",
              "variable_name": "results_df",
              "summary": "{\n  \"name\": \"results_df\",\n  \"rows\": 4,\n  \"fields\": [\n    {\n      \"column\": \"F1 Score\",\n      \"properties\": {\n        \"dtype\": \"number\",\n        \"std\": 0.01661951789518939,\n        \"min\": 0.035794183445190156,\n        \"max\": 0.070446735395189,\n        \"num_unique_values\": 4,\n        \"samples\": [\n          0.06997558991049634,\n          0.06593406593406594,\n          0.070446735395189\n        ],\n        \"semantic_type\": \"\",\n        \"description\": \"\"\n      }\n    },\n    {\n      \"column\": \"Accuracy\",\n      \"properties\": {\n        \"dtype\": \"number\",\n        \"std\": 0.2618540821091411,\n        \"min\": 0.08297872340425531,\n        \"max\": 0.6163120567375886,\n        \"num_unique_values\": 4,\n        \"samples\": [\n          0.5946808510638298,\n          0.6081560283687943,\n          0.6163120567375886\n        ],\n        \"semantic_type\": \"\",\n        \"description\": \"\"\n      }\n    },\n    {\n      \"column\": \"Recall\",\n      \"properties\": {\n        \"dtype\": \"number\",\n        \"std\": 0.0788206137840576,\n        \"min\": 0.7959183673469388,\n        \"max\": 0.9795918367346939,\n        \"num_unique_values\": 4,\n        \"samples\": [\n          0.8775510204081632,\n          0.7959183673469388,\n          0.8367346938775511\n        ],\n        \"semantic_type\": \"\",\n        \"description\": \"\"\n      }\n    },\n    {\n      \"column\": \"ROC-AUC\",\n      \"properties\": {\n        \"dtype\": \"number\",\n        \"std\": 0.03249858837919829,\n        \"min\": 0.7421913550696352,\n        \"max\": 0.8141538824118605,\n        \"num_unique_values\": 4,\n        \"samples\": [\n          0.8141538824118605,\n          0.8038209148690152,\n          0.8004146443853615\n        ],\n        \"semantic_type\": \"\",\n        \"description\": \"\"\n      }\n    }\n  ]\n}"
            }
          },
          "metadata": {}
        }
      ]
    },
    {
      "cell_type": "code",
      "source": [
        "# Generate predictions for both models\n",
        "pipelines_to_evaluate = {\n",
        "    'Modified Sampling Pipeline 9_11': modified_sampling9_11_pipeline,\n",
        "    'Modified Sampling Pipeline 8_10': modified_sampling8_10_pipeline,\n",
        "    'Modified Sampling Pipeline 10_10': modified_sampling10_10_pipeline,\n",
        "    'Modified Sampling Pipeline 9_12': modified_sampling9_12_pipeline\n",
        "}\n",
        "\n",
        "output_dir = \"/content/drive/MyDrive/Projects/Colombia-bankruptcy-prediction/predictions\"\n",
        "\n",
        "import os\n",
        "os.makedirs(output_dir, exist_ok=True)  # Ensure the output directory exists\n",
        "\n",
        "for name, pipeline in pipelines_to_evaluate.items():\n",
        "    print(f\"Generating predictions for {name}...\")\n",
        "\n",
        "    # Predict using the pipeline\n",
        "    predictions = pipeline.predict(X_verification)\n",
        "\n",
        "    # Create a DataFrame for the submission\n",
        "    submission = pd.DataFrame({\n",
        "        'Index': df_test['index'],  # Use the 'index' column from df_test\n",
        "        'Prediction': predictions\n",
        "    })\n",
        "\n",
        "    # Save to CSV\n",
        "    output_csv_path = os.path.join(output_dir, f\"{name.replace(' ', '_')}_prediction23_1.csv\")\n",
        "    submission.to_csv(output_csv_path, index=False)\n",
        "    print(f\"Predictions for {name} saved to {output_csv_path}\")\n",
        "\n"
      ],
      "metadata": {
        "id": "zJm1JxZzdBET",
        "colab": {
          "base_uri": "https://localhost:8080/"
        },
        "outputId": "7aec6d22-f9ed-4b10-fc13-7bd789e0d7f3"
      },
      "execution_count": null,
      "outputs": [
        {
          "output_type": "stream",
          "name": "stdout",
          "text": [
            "Generating predictions for Modified Sampling Pipeline 9_11...\n",
            "Predictions for Modified Sampling Pipeline 9_11 saved to /content/drive/MyDrive/Projects/Colombia-bankruptcy-prediction/DataSet/Modified_Sampling_Pipeline_9_11_prediction23_1.csv\n",
            "Generating predictions for Modified Sampling Pipeline 8_10...\n",
            "Predictions for Modified Sampling Pipeline 8_10 saved to /content/drive/MyDrive/Projects/Colombia-bankruptcy-prediction/DataSet/Modified_Sampling_Pipeline_8_10_prediction23_1.csv\n",
            "Generating predictions for Modified Sampling Pipeline 8_11...\n",
            "Predictions for Modified Sampling Pipeline 8_11 saved to /content/drive/MyDrive/Projects/Colombia-bankruptcy-prediction/DataSet/Modified_Sampling_Pipeline_8_11_prediction23_1.csv\n",
            "Generating predictions for Modified Sampling Pipeline 9_12...\n",
            "Predictions for Modified Sampling Pipeline 9_12 saved to /content/drive/MyDrive/Projects/Colombia-bankruptcy-prediction/DataSet/Modified_Sampling_Pipeline_9_12_prediction23_1.csv\n"
          ]
        }
      ]
    },
    {
      "cell_type": "markdown",
      "source": [
        "## Final project review\n",
        "\n",
        "**Final Project Performance and Validation**\n",
        "\n",
        "This bankruptcy prediction model was evaluated through the Kaggle competition platform, achieving notable results:\n",
        "\n",
        "**Competition Performance:**\n",
        "\n",
        "The model achieved an accuracy score of **81.81%** on the private test set\n",
        "Validation Methodology: Performance was assessed on approximately 10% of the hidden test data, providing an unbiased evaluation of the model's generalization capabilities\n",
        "\n",
        "**Real-World Applicability:**\n",
        "\n",
        "The strong out-of-sample performance suggests robust predictive power for real-world bankruptcy risk assessment\n",
        "The model's success on unseen data validates our technical approach, particularly:\n",
        "\n",
        "The effectiveness of our sampling strategy in handling class imbalance\n",
        "The robustness of our feature engineering process\n",
        "The appropriateness of XGBoost for this financial prediction task\n",
        "This performance places the model as a viable tool for practical applications in credit risk assessment and financial decision-making, demonstrating both statistical validity and business relevance.\n",
        "\n",
        "**Future Enhancements**\n",
        "\n",
        "While the model shows strong predictive capability, potential areas for improvement include:\n",
        "\n",
        "Exploration of additional financial ratios and domain-specific features\n",
        "Implementation of more sophisticated ensemble techniques\n",
        "Integration of macroeconomic indicators for broader context\n",
        "Development of model interpretability tools for stakeholder confidence\n",
        "The current performance establishes a solid foundation for these future developments while already providing actionable insights for bankruptcy risk assessment."
      ],
      "metadata": {
        "id": "pIvQKLTXWyAb"
      }
    },
    {
      "cell_type": "markdown",
      "source": [
        "### Technical Summary of the Project:\n",
        "**Data Understanding:**\n",
        "\n",
        "* The dataset contains 14,097 rows and 13 columns for training, and 6,042 rows and 12 columns for testing.\n",
        "* The target variable (event) is highly imbalanced, with only 247 bankruptcy cases out of 14,097.\n",
        "\n",
        "**Data Preparation:**\n",
        "\n",
        "* Missing values in key financial columns are filled using median or mean values from the training set.\n",
        "* Derived features such as profitability, liquidity, and debt ratios are created to enhance model performance.\n",
        "\n",
        "**Modeling:**\n",
        "\n",
        "* Four pipelines with different sampling strategies (e.g., SMOTEENN and undersampling) are created to handle class imbalance.\n",
        "* The XGBoost Classifier is used with hyperparameters like learning_rate=0.03, max_depth=3, and n_estimators=100.\n",
        "\n",
        "**Evaluation:**\n",
        "\n",
        "* Pipelines are evaluated on both training and test sets using metrics such as F1 Score, Accuracy, Recall, and ROC-AUC.\n",
        "* The best pipeline is selected based on its performance on the test set.\n",
        "\n",
        "**Deployment:**\n",
        "* Predictions for the test dataset are generated and saved as CSV files for further analysis or submission."
      ],
      "metadata": {
        "id": "c-O4azSbkPEc"
      }
    },
    {
      "cell_type": "markdown",
      "source": [
        "### Model Limitations and Assumptions\n",
        "\n",
        "1. Data Temporal Limitations:\n",
        "   - Model trained on historical Colombian financial data\n",
        "   - Assumes similar economic conditions in prediction period\n",
        "   - May not capture sudden market shocks or economic disruptions\n",
        "\n",
        "2. Key Assumptions:\n",
        "   - Financial ratios maintain predictive power over time\n",
        "   - Company reporting standards remain consistent\n",
        "   - Linear relationship between financial indicators and bankruptcy risk\n",
        "\n",
        "3. Risk Disclaimers:\n",
        "   - This model is a decision support tool, not a definitive predictor\n",
        "   - Predictions should be used in conjunction with expert judgment\n",
        "   - Regular model retraining is recommended (at least annually)\n",
        "   - Past performance does not guarantee future results\n",
        "\n",
        "### Implementation Guidelines\n",
        "\n",
        "1. Technical Requirements:\n",
        "   - Python 3.7+\n",
        "   - Required packages: scikit-learn, xgboost, imblearn\n",
        "   - Minimum 8GB RAM for processing\n",
        "\n",
        "2. Data Requirements:\n",
        "   - Financial statements not older than 12 months\n",
        "   - Complete set of required financial ratios\n",
        "   - Standardized reporting format\n",
        "\n",
        "3. Operational Protocol:\n",
        "   - Monthly model performance monitoring\n",
        "   - Quarterly threshold calibration\n",
        "   - Annual model retraining"
      ],
      "metadata": {
        "id": "nLkuVs_Qu1XJ"
      }
    }
  ]
}